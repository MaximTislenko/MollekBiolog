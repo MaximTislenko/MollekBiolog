{
  "nbformat": 4,
  "nbformat_minor": 0,
  "metadata": {
    "colab": {
      "provenance": [],
      "authorship_tag": "ABX9TyOBYzMgipRNfNP0fHBski05",
      "include_colab_link": true
    },
    "kernelspec": {
      "name": "python3",
      "display_name": "Python 3"
    },
    "language_info": {
      "name": "python"
    }
  },
  "cells": [
    {
      "cell_type": "markdown",
      "metadata": {
        "id": "view-in-github",
        "colab_type": "text"
      },
      "source": [
        "<a href=\"https://colab.research.google.com/github/MaximTislenko/MollekBiolog/blob/main/Zad_02_01.ipynb\" target=\"_parent\"><img src=\"https://colab.research.google.com/assets/colab-badge.svg\" alt=\"Open In Colab\"/></a>"
      ]
    },
    {
      "cell_type": "markdown",
      "source": [
        "#Введение\n",
        "Для изучения выбрана достаточно редкое заболеваие - Фавизм"
      ],
      "metadata": {
        "id": "zbz_YSt5-urg"
      }
    },
    {
      "cell_type": "markdown",
      "source": [
        "##Основные положения\n",
        "* Дефицит глюкоза-6-фосфат-дегидрогеназы (Г6ФД) является наиболее распространенным наследственным нарушением метаболизма красных клеток крови и, при наличии провоцирующих факторов, может вызывать гемолиз.\n",
        "* Заболеваемость выше в определенных этнических группах (например, люди африканского, средиземноморского или азиатского происхождения).\n",
        "* Триггеры включают в себя острые заболевания (например, инфекции), лекарственные средства (например, салицилаты) и другие вещества (например, кормовые бобы), которые вызывают окислительный стресс.\n",
        "* Диагностика проводится с использованием периферического мазка и анализа Г6ФД, ложно-отрицательные результаты анализа на Г6ФД возможны во время острого гемолиза, поэтому, если первоначальный анализ на Г6ФД отрицательный, следует повторить тестирование через несколько недель.\n",
        "* Избегайте триггеров, чтобы ограничить гемолитические эпизоды."
      ],
      "metadata": {
        "id": "lr-8iX2s_Yrw"
      }
    },
    {
      "cell_type": "markdown",
      "source": [
        "###В своей практике, я несколько раз встречался с этим заболеванием. Впервые во время ординатуры, тяжелый случай с внутрисосудистым гемолизом. Второй раз - ребенок с тяжелой пневмонией, которому было необходимо было подобрать безопасный антибиотик В третий раз я уже подтвердил дефицит лабораторно, проводя дифференциальную диагностику анемии у подростка."
      ],
      "metadata": {
        "id": "zzc3IVEE_gqu"
      }
    },
    {
      "cell_type": "markdown",
      "source": [
        "##При более глубоком изучении проблемы выяснил, что за данное заболевание отвечают два гена, описание ниже."
      ],
      "metadata": {
        "id": "kYpQn6PZ_lGe"
      }
    },
    {
      "cell_type": "code",
      "source": [
        "!pip install biopython"
      ],
      "metadata": {
        "colab": {
          "base_uri": "https://localhost:8080/"
        },
        "id": "DjZRU4uO_f0q",
        "outputId": "021a9306-6e9f-4c4d-f754-5d28622ca0b2"
      },
      "execution_count": null,
      "outputs": [
        {
          "output_type": "stream",
          "name": "stdout",
          "text": [
            "Looking in indexes: https://pypi.org/simple, https://us-python.pkg.dev/colab-wheels/public/simple/\n",
            "Collecting biopython\n",
            "  Downloading biopython-1.80-cp38-cp38-manylinux_2_17_x86_64.manylinux2014_x86_64.whl (3.1 MB)\n",
            "\u001b[2K     \u001b[90m━━━━━━━━━━━━━━━━━━━━━━━━━━━━━━━━━━━━━━━━\u001b[0m \u001b[32m3.1/3.1 MB\u001b[0m \u001b[31m30.5 MB/s\u001b[0m eta \u001b[36m0:00:00\u001b[0m\n",
            "\u001b[?25hRequirement already satisfied: numpy in /usr/local/lib/python3.8/dist-packages (from biopython) (1.21.6)\n",
            "Installing collected packages: biopython\n",
            "Successfully installed biopython-1.80\n"
          ]
        }
      ]
    },
    {
      "cell_type": "code",
      "execution_count": null,
      "metadata": {
        "id": "t1DH4KN9-mLn"
      },
      "outputs": [],
      "source": [
        "from Bio import Entrez\n",
        "from Bio import SeqIO\n",
        "from Bio.Seq import Seq\n",
        "import pandas as pd\n",
        "import xml.etree.ElementTree as ET"
      ]
    },
    {
      "cell_type": "markdown",
      "source": [
        "##Два гена:\n",
        "* id_01=8573\n",
        "* id_02=2539\n",
        "\n",
        "Хочется сделать функцию, которая по $id$ $gens$ сразу выдает цепчку "
      ],
      "metadata": {
        "id": "o1n0xAkcHcjP"
      }
    },
    {
      "cell_type": "code",
      "source": [
        "def dna_01(X):\n",
        "  Entrez.email = \"maximtarkovski@gmail.com\"\n",
        "  handle = Entrez.efetch(db=\"gene\", id=X, rettype = 'xml')\n",
        "  gene_locus = ET.parse(handle).getroot().find(\"Entrezgene/Entrezgene_locus\")\n",
        "  region = gene_locus.find(\"Gene-commentary/Gene-commentary_seqs/Seq-loc/Seq-loc_int/Seq-interval\")\n",
        "  start = int(region.find(\"Seq-interval_from\").text) + 1\n",
        "  end = int(region.find(\"Seq-interval_to\").text) + 1\n",
        "  gi_id = region.find(\"Seq-interval_id/Seq-id/Seq-id_gi\").text\n",
        "  strand = region.find(\"Seq-interval_strand/Na-strand\").get(\"value\")\n",
        "  # chrom = ET.parse(handle).getroot().find(\"Entrezgene/Entrezgene_locus\")\n",
        "  сhromosome = gene_locus.find(\"Gene-commentary/Gene-commentary_accession\").text + '.' + gene_locus.find(\"Gene-commentary/Gene-commentary_version\").text\n",
        "  handle_01 = Entrez.efetch(db=\"nucleotide\", id= сhromosome, rettype = 'fasta', retmode = 'text')\n",
        "  chromosome_loaded = SeqIO.read(handle_01, 'fasta')\n",
        "  gene_seq = Seq(chromosome_loaded.seq[start:end])\n",
        "  outputname = '/content/gen_' + str(X) + '.fasta'\n",
        "  gene_record = SeqIO.SeqRecord(gene_seq, id= str(X), name='no_name', description='Study_05_02_2023')\n",
        "  SeqIO.write(gene_record, outputname, 'fasta')\n",
        "  # print(outputname)\n",
        "  # print(type(gene_seq))\n",
        "  # print('Загруженная хромосома - ', chromosome_loaded.description)\n",
        "  # print('Хромосома - ', сhromosome)\n",
        "  # print('Начало - ',start)\n",
        "  # print('Конец - ',end)\n",
        "  # print('gi_id - ', gi_id)\n",
        "  # print('Strand - ', strand)\n",
        "  # print('Длина_гена - ',len(gene_seq))\n",
        "  # print(gene_record)"
      ],
      "metadata": {
        "id": "A9ghmsWYIdHd"
      },
      "execution_count": null,
      "outputs": []
    },
    {
      "cell_type": "code",
      "source": [
        "help(SeqIO)"
      ],
      "metadata": {
        "id": "0MnMyIxBDyXN"
      },
      "execution_count": null,
      "outputs": []
    },
    {
      "cell_type": "code",
      "source": [
        "dna_01(8573)"
      ],
      "metadata": {
        "id": "JS7S-Qn7JbM_"
      },
      "execution_count": null,
      "outputs": []
    },
    {
      "cell_type": "code",
      "source": [
        "dna_01(2539)"
      ],
      "metadata": {
        "colab": {
          "base_uri": "https://localhost:8080/",
          "height": 36
        },
        "id": "go-PC3PiKTZb",
        "outputId": "a3ab7e38-d84b-454c-c3ce-2bf3ab4e5d41"
      },
      "execution_count": null,
      "outputs": [
        {
          "output_type": "execute_result",
          "data": {
            "text/plain": [
              "'/content/gen_2539.fasta'"
            ],
            "application/vnd.google.colaboratory.intrinsic+json": {
              "type": "string"
            }
          },
          "metadata": {},
          "execution_count": 26
        }
      ]
    }
  ]
}