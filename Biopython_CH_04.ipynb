{
  "nbformat": 4,
  "nbformat_minor": 0,
  "metadata": {
    "colab": {
      "provenance": [],
      "authorship_tag": "ABX9TyP4iXVKeu2aFOrHuiWOVH95",
      "include_colab_link": true
    },
    "kernelspec": {
      "name": "python3",
      "display_name": "Python 3"
    },
    "language_info": {
      "name": "python"
    }
  },
  "cells": [
    {
      "cell_type": "markdown",
      "metadata": {
        "id": "view-in-github",
        "colab_type": "text"
      },
      "source": [
        "<a href=\"https://colab.research.google.com/github/MaximTislenko/MollekBiolog/blob/main/Biopython_CH_04.ipynb\" target=\"_parent\"><img src=\"https://colab.research.google.com/assets/colab-badge.svg\" alt=\"Open In Colab\"/></a>"
      ]
    },
    {
      "cell_type": "markdown",
      "source": [
        "#Глава ‍4 Объекты аннотации последовательности\n",
        "\n",
        "В главе ‍ 3 были представлены классы последовательности. Непосредственно «над» Seqклассом находится запись последовательности или SeqRecordкласс, определенный в Bio.SeqRecordмодуле. Этот класс позволяет ассоциировать с последовательностью свойства более высокого уровня, такие как идентификаторы и свойства (как SeqFeatureобъекты), и используется во всем интерфейсе ввода/вывода последовательности, Bio.SeqIOполностью описанном в главе ‍ 5 .\n",
        "\n",
        "Если вы собираетесь работать только с простыми данными, такими как файлы FASTA, вы, вероятно, можете пока пропустить эту главу. С другой стороны, если вы собираетесь использовать богато аннотированные данные последовательности, скажем, из файлов GenBank или EMBL, эта информация очень важна.\n",
        "\n",
        "Хотя эта глава должна охватывать большинство вещей, связанных с объектами SeqRecordи SeqFeatureв этой главе, вы также можете прочитать SeqRecordвики-страницу ( http://biopython.org/wiki/SeqRecord ) и встроенную документацию (также в Интернете — SeqRecord). и SeqFeature ):"
      ],
      "metadata": {
        "id": "vxwdjtX-P02Y"
      }
    },
    {
      "cell_type": "code",
      "source": [
        "!pip install biopython"
      ],
      "metadata": {
        "colab": {
          "base_uri": "https://localhost:8080/"
        },
        "id": "pRr56JS_XG99",
        "outputId": "ac7b4e76-ba74-47cc-be52-4b2273601909"
      },
      "execution_count": 75,
      "outputs": [
        {
          "output_type": "stream",
          "name": "stdout",
          "text": [
            "Looking in indexes: https://pypi.org/simple, https://us-python.pkg.dev/colab-wheels/public/simple/\n",
            "Requirement already satisfied: biopython in /usr/local/lib/python3.8/dist-packages (1.80)\n",
            "Requirement already satisfied: numpy in /usr/local/lib/python3.8/dist-packages (from biopython) (1.21.6)\n"
          ]
        }
      ]
    },
    {
      "cell_type": "code",
      "execution_count": 76,
      "metadata": {
        "colab": {
          "base_uri": "https://localhost:8080/"
        },
        "id": "RjYxMeHnPahF",
        "outputId": "3ac0a09e-56ac-482f-91b0-5bfa4588a0bf"
      },
      "outputs": [
        {
          "output_type": "stream",
          "name": "stdout",
          "text": [
            "Help on class SeqRecord in module Bio.SeqRecord:\n",
            "\n",
            "class SeqRecord(builtins.object)\n",
            " |  SeqRecord(seq, id='<unknown id>', name='<unknown name>', description='<unknown description>', dbxrefs=None, features=None, annotations=None, letter_annotations=None)\n",
            " |  \n",
            " |  A SeqRecord object holds a sequence and information about it.\n",
            " |  \n",
            " |  Main attributes:\n",
            " |   - id          - Identifier such as a locus tag (string)\n",
            " |   - seq         - The sequence itself (Seq object or similar)\n",
            " |  \n",
            " |  Additional attributes:\n",
            " |   - name        - Sequence name, e.g. gene name (string)\n",
            " |   - description - Additional text (string)\n",
            " |   - dbxrefs     - List of database cross references (list of strings)\n",
            " |   - features    - Any (sub)features defined (list of SeqFeature objects)\n",
            " |   - annotations - Further information about the whole sequence (dictionary).\n",
            " |     Most entries are strings, or lists of strings.\n",
            " |   - letter_annotations - Per letter/symbol annotation (restricted\n",
            " |     dictionary). This holds Python sequences (lists, strings\n",
            " |     or tuples) whose length matches that of the sequence.\n",
            " |     A typical use would be to hold a list of integers\n",
            " |     representing sequencing quality scores, or a string\n",
            " |     representing the secondary structure.\n",
            " |  \n",
            " |  You will typically use Bio.SeqIO to read in sequences from files as\n",
            " |  SeqRecord objects.  However, you may want to create your own SeqRecord\n",
            " |  objects directly (see the __init__ method for further details):\n",
            " |  \n",
            " |  >>> from Bio.Seq import Seq\n",
            " |  >>> from Bio.SeqRecord import SeqRecord\n",
            " |  >>> record = SeqRecord(Seq(\"MKQHKAMIVALIVICITAVVAALVTRKDLCEVHIRTGQTEVAVF\"),\n",
            " |  ...                    id=\"YP_025292.1\", name=\"HokC\",\n",
            " |  ...                    description=\"toxic membrane protein\")\n",
            " |  >>> print(record)\n",
            " |  ID: YP_025292.1\n",
            " |  Name: HokC\n",
            " |  Description: toxic membrane protein\n",
            " |  Number of features: 0\n",
            " |  Seq('MKQHKAMIVALIVICITAVVAALVTRKDLCEVHIRTGQTEVAVF')\n",
            " |  \n",
            " |  If you want to save SeqRecord objects to a sequence file, use Bio.SeqIO\n",
            " |  for this.  For the special case where you want the SeqRecord turned into\n",
            " |  a string in a particular file format there is a format method which uses\n",
            " |  Bio.SeqIO internally:\n",
            " |  \n",
            " |  >>> print(record.format(\"fasta\"))\n",
            " |  >YP_025292.1 toxic membrane protein\n",
            " |  MKQHKAMIVALIVICITAVVAALVTRKDLCEVHIRTGQTEVAVF\n",
            " |  <BLANKLINE>\n",
            " |  \n",
            " |  You can also do things like slicing a SeqRecord, checking its length, etc\n",
            " |  \n",
            " |  >>> len(record)\n",
            " |  44\n",
            " |  >>> edited = record[:10] + record[11:]\n",
            " |  >>> print(edited.seq)\n",
            " |  MKQHKAMIVAIVICITAVVAALVTRKDLCEVHIRTGQTEVAVF\n",
            " |  >>> print(record.seq)\n",
            " |  MKQHKAMIVALIVICITAVVAALVTRKDLCEVHIRTGQTEVAVF\n",
            " |  \n",
            " |  Methods defined here:\n",
            " |  \n",
            " |  __add__(self, other)\n",
            " |      Add another sequence or string to this sequence.\n",
            " |      \n",
            " |      The other sequence can be a SeqRecord object, a Seq object (or\n",
            " |      similar, e.g. a MutableSeq) or a plain Python string. If you add\n",
            " |      a plain string or a Seq (like) object, the new SeqRecord will simply\n",
            " |      have this appended to the existing data. However, any per letter\n",
            " |      annotation will be lost:\n",
            " |      \n",
            " |      >>> from Bio import SeqIO\n",
            " |      >>> record = SeqIO.read(\"Quality/solexa_faked.fastq\", \"fastq-solexa\")\n",
            " |      >>> print(\"%s %s\" % (record.id, record.seq))\n",
            " |      slxa_0001_1_0001_01 ACGTACGTACGTACGTACGTACGTACGTACGTACGTACGTNNNNNN\n",
            " |      >>> print(list(record.letter_annotations))\n",
            " |      ['solexa_quality']\n",
            " |      \n",
            " |      >>> new = record + \"ACT\"\n",
            " |      >>> print(\"%s %s\" % (new.id, new.seq))\n",
            " |      slxa_0001_1_0001_01 ACGTACGTACGTACGTACGTACGTACGTACGTACGTACGTNNNNNNACT\n",
            " |      >>> print(list(new.letter_annotations))\n",
            " |      []\n",
            " |      \n",
            " |      The new record will attempt to combine the annotation, but for any\n",
            " |      ambiguities (e.g. different names) it defaults to omitting that\n",
            " |      annotation.\n",
            " |      \n",
            " |      >>> from Bio import SeqIO\n",
            " |      >>> with open(\"GenBank/pBAD30.gb\") as handle:\n",
            " |      ...     plasmid = SeqIO.read(handle, \"gb\")\n",
            " |      >>> print(\"%s %i\" % (plasmid.id, len(plasmid)))\n",
            " |      pBAD30 4923\n",
            " |      \n",
            " |      Now let's cut the plasmid into two pieces, and join them back up the\n",
            " |      other way round (i.e. shift the starting point on this plasmid, have\n",
            " |      a look at the annotated features in the original file to see why this\n",
            " |      particular split point might make sense):\n",
            " |      \n",
            " |      >>> left = plasmid[:3765]\n",
            " |      >>> right = plasmid[3765:]\n",
            " |      >>> new = right + left\n",
            " |      >>> print(\"%s %i\" % (new.id, len(new)))\n",
            " |      pBAD30 4923\n",
            " |      >>> str(new.seq) == str(right.seq + left.seq)\n",
            " |      True\n",
            " |      >>> len(new.features) == len(left.features) + len(right.features)\n",
            " |      True\n",
            " |      \n",
            " |      When we add the left and right SeqRecord objects, their annotation\n",
            " |      is all consistent, so it is all conserved in the new SeqRecord:\n",
            " |      \n",
            " |      >>> new.id == left.id == right.id == plasmid.id\n",
            " |      True\n",
            " |      >>> new.name == left.name == right.name == plasmid.name\n",
            " |      True\n",
            " |      >>> new.description == plasmid.description\n",
            " |      True\n",
            " |      >>> new.annotations == left.annotations == right.annotations\n",
            " |      True\n",
            " |      >>> new.letter_annotations == plasmid.letter_annotations\n",
            " |      True\n",
            " |      >>> new.dbxrefs == left.dbxrefs == right.dbxrefs\n",
            " |      True\n",
            " |      \n",
            " |      However, we should point out that when we sliced the SeqRecord,\n",
            " |      any annotations dictionary or dbxrefs list entries were lost.\n",
            " |      You can explicitly copy them like this:\n",
            " |      \n",
            " |      >>> new.annotations = plasmid.annotations.copy()\n",
            " |      >>> new.dbxrefs = plasmid.dbxrefs[:]\n",
            " |  \n",
            " |  __bool__(self)\n",
            " |      Boolean value of an instance of this class (True).\n",
            " |      \n",
            " |      This behaviour is for backwards compatibility, since until the\n",
            " |      __len__ method was added, a SeqRecord always evaluated as True.\n",
            " |      \n",
            " |      Note that in comparison, a Seq object will evaluate to False if it\n",
            " |      has a zero length sequence.\n",
            " |      \n",
            " |      WARNING: The SeqRecord may in future evaluate to False when its\n",
            " |      sequence is of zero length (in order to better match the Seq\n",
            " |      object behaviour)!\n",
            " |  \n",
            " |  __contains__(self, char)\n",
            " |      Implement the 'in' keyword, searches the sequence.\n",
            " |      \n",
            " |      e.g.\n",
            " |      \n",
            " |      >>> from Bio import SeqIO\n",
            " |      >>> record = SeqIO.read(\"Fasta/sweetpea.nu\", \"fasta\")\n",
            " |      >>> \"GAATTC\" in record\n",
            " |      False\n",
            " |      >>> \"AAA\" in record\n",
            " |      True\n",
            " |      \n",
            " |      This essentially acts as a proxy for using \"in\" on the sequence:\n",
            " |      \n",
            " |      >>> \"GAATTC\" in record.seq\n",
            " |      False\n",
            " |      >>> \"AAA\" in record.seq\n",
            " |      True\n",
            " |      \n",
            " |      Note that you can also use Seq objects as the query,\n",
            " |      \n",
            " |      >>> from Bio.Seq import Seq\n",
            " |      >>> Seq(\"AAA\") in record\n",
            " |      True\n",
            " |      \n",
            " |      See also the Seq object's __contains__ method.\n",
            " |  \n",
            " |  __eq__(self, other)\n",
            " |      Define the equal-to operand (not implemented).\n",
            " |  \n",
            " |  __format__(self, format_spec)\n",
            " |      Return the record as a string in the specified file format.\n",
            " |      \n",
            " |      This method supports the Python format() function and f-strings.\n",
            " |      The format_spec should be a lower case string supported by\n",
            " |      Bio.SeqIO as a text output file format. Requesting a binary file\n",
            " |      format raises a ValueError. e.g.\n",
            " |      \n",
            " |      >>> from Bio.Seq import Seq\n",
            " |      >>> from Bio.SeqRecord import SeqRecord\n",
            " |      >>> record = SeqRecord(Seq(\"MKQHKAMIVALIVICITAVVAALVTRKDLCEVHIRTGQTEVAVF\"),\n",
            " |      ...                    id=\"YP_025292.1\", name=\"HokC\",\n",
            " |      ...                    description=\"toxic membrane protein\")\n",
            " |      ...\n",
            " |      >>> format(record, \"fasta\")\n",
            " |      '>YP_025292.1 toxic membrane protein\\nMKQHKAMIVALIVICITAVVAALVTRKDLCEVHIRTGQTEVAVF\\n'\n",
            " |      >>> print(f\"Here is {record.id} in FASTA format:\\n{record:fasta}\")\n",
            " |      Here is YP_025292.1 in FASTA format:\n",
            " |      >YP_025292.1 toxic membrane protein\n",
            " |      MKQHKAMIVALIVICITAVVAALVTRKDLCEVHIRTGQTEVAVF\n",
            " |      <BLANKLINE>\n",
            " |      \n",
            " |      See also the SeqRecord's format() method.\n",
            " |  \n",
            " |  __ge__(self, other)\n",
            " |      Define the greater-than-or-equal-to operand (not implemented).\n",
            " |  \n",
            " |  __getitem__(self, index)\n",
            " |      Return a sub-sequence or an individual letter.\n",
            " |      \n",
            " |      Slicing, e.g. my_record[5:10], returns a new SeqRecord for\n",
            " |      that sub-sequence with some annotation preserved as follows:\n",
            " |      \n",
            " |      * The name, id and description are kept as-is.\n",
            " |      * Any per-letter-annotations are sliced to match the requested\n",
            " |        sub-sequence.\n",
            " |      * Unless a stride is used, all those features which fall fully\n",
            " |        within the subsequence are included (with their locations\n",
            " |        adjusted accordingly). If you want to preserve any truncated\n",
            " |        features (e.g. GenBank/EMBL source features), you must\n",
            " |        explicitly add them to the new SeqRecord yourself.\n",
            " |      * With the exception of any molecule type, the annotations\n",
            " |        dictionary and the dbxrefs list are not used for the new\n",
            " |        SeqRecord, as in general they may not apply to the\n",
            " |        subsequence. If you want to preserve them, you must explicitly\n",
            " |        copy them to the new SeqRecord yourself.\n",
            " |      \n",
            " |      Using an integer index, e.g. my_record[5] is shorthand for\n",
            " |      extracting that letter from the sequence, my_record.seq[5].\n",
            " |      \n",
            " |      For example, consider this short protein and its secondary\n",
            " |      structure as encoded by the PDB (e.g. H for alpha helices),\n",
            " |      plus a simple feature for its histidine self phosphorylation\n",
            " |      site:\n",
            " |      \n",
            " |      >>> from Bio.Seq import Seq\n",
            " |      >>> from Bio.SeqRecord import SeqRecord\n",
            " |      >>> from Bio.SeqFeature import SeqFeature, SimpleLocation\n",
            " |      >>> rec = SeqRecord(Seq(\"MAAGVKQLADDRTLLMAGVSHDLRTPLTRIRLAT\"\n",
            " |      ...                     \"EMMSEQDGYLAESINKDIEECNAIIEQFIDYLR\"),\n",
            " |      ...                 id=\"1JOY\", name=\"EnvZ\",\n",
            " |      ...                 description=\"Homodimeric domain of EnvZ from E. coli\")\n",
            " |      >>> rec.letter_annotations[\"secondary_structure\"] = \"  S  SSSSSSHHHHHTTTHHHHHHHHHHHHHHHHHHHHHHTHHHHHHHHHHHHHHHHHHHHHTT  \"\n",
            " |      >>> rec.features.append(SeqFeature(SimpleLocation(20, 21),\n",
            " |      ...                     type = \"Site\"))\n",
            " |      \n",
            " |      Now let's have a quick look at the full record,\n",
            " |      \n",
            " |      >>> print(rec)\n",
            " |      ID: 1JOY\n",
            " |      Name: EnvZ\n",
            " |      Description: Homodimeric domain of EnvZ from E. coli\n",
            " |      Number of features: 1\n",
            " |      Per letter annotation for: secondary_structure\n",
            " |      Seq('MAAGVKQLADDRTLLMAGVSHDLRTPLTRIRLATEMMSEQDGYLAESINKDIEE...YLR')\n",
            " |      >>> rec.letter_annotations[\"secondary_structure\"]\n",
            " |      '  S  SSSSSSHHHHHTTTHHHHHHHHHHHHHHHHHHHHHHTHHHHHHHHHHHHHHHHHHHHHTT  '\n",
            " |      >>> print(rec.features[0].location)\n",
            " |      [20:21]\n",
            " |      \n",
            " |      Now let's take a sub sequence, here chosen as the first (fractured)\n",
            " |      alpha helix which includes the histidine phosphorylation site:\n",
            " |      \n",
            " |      >>> sub = rec[11:41]\n",
            " |      >>> print(sub)\n",
            " |      ID: 1JOY\n",
            " |      Name: EnvZ\n",
            " |      Description: Homodimeric domain of EnvZ from E. coli\n",
            " |      Number of features: 1\n",
            " |      Per letter annotation for: secondary_structure\n",
            " |      Seq('RTLLMAGVSHDLRTPLTRIRLATEMMSEQD')\n",
            " |      >>> sub.letter_annotations[\"secondary_structure\"]\n",
            " |      'HHHHHTTTHHHHHHHHHHHHHHHHHHHHHH'\n",
            " |      >>> print(sub.features[0].location)\n",
            " |      [9:10]\n",
            " |      \n",
            " |      You can also of course omit the start or end values, for\n",
            " |      example to get the first ten letters only:\n",
            " |      \n",
            " |      >>> print(rec[:10])\n",
            " |      ID: 1JOY\n",
            " |      Name: EnvZ\n",
            " |      Description: Homodimeric domain of EnvZ from E. coli\n",
            " |      Number of features: 0\n",
            " |      Per letter annotation for: secondary_structure\n",
            " |      Seq('MAAGVKQLAD')\n",
            " |      \n",
            " |      Or for the last ten letters:\n",
            " |      \n",
            " |      >>> print(rec[-10:])\n",
            " |      ID: 1JOY\n",
            " |      Name: EnvZ\n",
            " |      Description: Homodimeric domain of EnvZ from E. coli\n",
            " |      Number of features: 0\n",
            " |      Per letter annotation for: secondary_structure\n",
            " |      Seq('IIEQFIDYLR')\n",
            " |      \n",
            " |      If you omit both, then you get a copy of the original record (although\n",
            " |      lacking the annotations and dbxrefs):\n",
            " |      \n",
            " |      >>> print(rec[:])\n",
            " |      ID: 1JOY\n",
            " |      Name: EnvZ\n",
            " |      Description: Homodimeric domain of EnvZ from E. coli\n",
            " |      Number of features: 1\n",
            " |      Per letter annotation for: secondary_structure\n",
            " |      Seq('MAAGVKQLADDRTLLMAGVSHDLRTPLTRIRLATEMMSEQDGYLAESINKDIEE...YLR')\n",
            " |      \n",
            " |      Finally, indexing with a simple integer is shorthand for pulling out\n",
            " |      that letter from the sequence directly:\n",
            " |      \n",
            " |      >>> rec[5]\n",
            " |      'K'\n",
            " |      >>> rec.seq[5]\n",
            " |      'K'\n",
            " |  \n",
            " |  __gt__(self, other)\n",
            " |      Define the greater-than operand (not implemented).\n",
            " |  \n",
            " |  __init__(self, seq, id='<unknown id>', name='<unknown name>', description='<unknown description>', dbxrefs=None, features=None, annotations=None, letter_annotations=None)\n",
            " |      Create a SeqRecord.\n",
            " |      \n",
            " |      Arguments:\n",
            " |       - seq         - Sequence, required (Seq or MutableSeq)\n",
            " |       - id          - Sequence identifier, recommended (string)\n",
            " |       - name        - Sequence name, optional (string)\n",
            " |       - description - Sequence description, optional (string)\n",
            " |       - dbxrefs     - Database cross references, optional (list of strings)\n",
            " |       - features    - Any (sub)features, optional (list of SeqFeature objects)\n",
            " |       - annotations - Dictionary of annotations for the whole sequence\n",
            " |       - letter_annotations - Dictionary of per-letter-annotations, values\n",
            " |         should be strings, list or tuples of the same length as the full\n",
            " |         sequence.\n",
            " |      \n",
            " |      You will typically use Bio.SeqIO to read in sequences from files as\n",
            " |      SeqRecord objects.  However, you may want to create your own SeqRecord\n",
            " |      objects directly.\n",
            " |      \n",
            " |      Note that while an id is optional, we strongly recommend you supply a\n",
            " |      unique id string for each record.  This is especially important\n",
            " |      if you wish to write your sequences to a file.\n",
            " |      \n",
            " |      You can create a 'blank' SeqRecord object, and then populate the\n",
            " |      attributes later.\n",
            " |  \n",
            " |  __iter__(self)\n",
            " |      Iterate over the letters in the sequence.\n",
            " |      \n",
            " |      For example, using Bio.SeqIO to read in a protein FASTA file:\n",
            " |      \n",
            " |      >>> from Bio import SeqIO\n",
            " |      >>> record = SeqIO.read(\"Fasta/loveliesbleeding.pro\", \"fasta\")\n",
            " |      >>> for amino in record:\n",
            " |      ...     print(amino)\n",
            " |      ...     if amino == \"L\": break\n",
            " |      X\n",
            " |      A\n",
            " |      G\n",
            " |      L\n",
            " |      >>> print(record.seq[3])\n",
            " |      L\n",
            " |      \n",
            " |      This is just a shortcut for iterating over the sequence directly:\n",
            " |      \n",
            " |      >>> for amino in record.seq:\n",
            " |      ...     print(amino)\n",
            " |      ...     if amino == \"L\": break\n",
            " |      X\n",
            " |      A\n",
            " |      G\n",
            " |      L\n",
            " |      >>> print(record.seq[3])\n",
            " |      L\n",
            " |      \n",
            " |      Note that this does not facilitate iteration together with any\n",
            " |      per-letter-annotation.  However, you can achieve that using the\n",
            " |      python zip function on the record (or its sequence) and the relevant\n",
            " |      per-letter-annotation:\n",
            " |      \n",
            " |      >>> from Bio import SeqIO\n",
            " |      >>> rec = SeqIO.read(\"Quality/solexa_faked.fastq\", \"fastq-solexa\")\n",
            " |      >>> print(\"%s %s\" % (rec.id, rec.seq))\n",
            " |      slxa_0001_1_0001_01 ACGTACGTACGTACGTACGTACGTACGTACGTACGTACGTNNNNNN\n",
            " |      >>> print(list(rec.letter_annotations))\n",
            " |      ['solexa_quality']\n",
            " |      >>> for nuc, qual in zip(rec, rec.letter_annotations[\"solexa_quality\"]):\n",
            " |      ...     if qual > 35:\n",
            " |      ...         print(\"%s %i\" % (nuc, qual))\n",
            " |      A 40\n",
            " |      C 39\n",
            " |      G 38\n",
            " |      T 37\n",
            " |      A 36\n",
            " |      \n",
            " |      You may agree that using zip(rec.seq, ...) is more explicit than using\n",
            " |      zip(rec, ...) as shown above.\n",
            " |  \n",
            " |  __le__(self, other)\n",
            " |      Define the less-than-or-equal-to operand (not implemented).\n",
            " |  \n",
            " |  __len__(self)\n",
            " |      Return the length of the sequence.\n",
            " |      \n",
            " |      For example, using Bio.SeqIO to read in a FASTA nucleotide file:\n",
            " |      \n",
            " |      >>> from Bio import SeqIO\n",
            " |      >>> record = SeqIO.read(\"Fasta/sweetpea.nu\", \"fasta\")\n",
            " |      >>> len(record)\n",
            " |      309\n",
            " |      >>> len(record.seq)\n",
            " |      309\n",
            " |  \n",
            " |  __lt__(self, other)\n",
            " |      Define the less-than operand (not implemented).\n",
            " |  \n",
            " |  __ne__(self, other)\n",
            " |      Define the not-equal-to operand (not implemented).\n",
            " |  \n",
            " |  __radd__(self, other)\n",
            " |      Add another sequence or string to this sequence (from the left).\n",
            " |      \n",
            " |      This method handles adding a Seq object (or similar, e.g. MutableSeq)\n",
            " |      or a plain Python string (on the left) to a SeqRecord (on the right).\n",
            " |      See the __add__ method for more details, but for example:\n",
            " |      \n",
            " |      >>> from Bio import SeqIO\n",
            " |      >>> record = SeqIO.read(\"Quality/solexa_faked.fastq\", \"fastq-solexa\")\n",
            " |      >>> print(\"%s %s\" % (record.id, record.seq))\n",
            " |      slxa_0001_1_0001_01 ACGTACGTACGTACGTACGTACGTACGTACGTACGTACGTNNNNNN\n",
            " |      >>> print(list(record.letter_annotations))\n",
            " |      ['solexa_quality']\n",
            " |      \n",
            " |      >>> new = \"ACT\" + record\n",
            " |      >>> print(\"%s %s\" % (new.id, new.seq))\n",
            " |      slxa_0001_1_0001_01 ACTACGTACGTACGTACGTACGTACGTACGTACGTACGTACGTNNNNNN\n",
            " |      >>> print(list(new.letter_annotations))\n",
            " |      []\n",
            " |  \n",
            " |  __repr__(self)\n",
            " |      Return a concise summary of the record for debugging (string).\n",
            " |      \n",
            " |      The python built in function repr works by calling the object's __repr__\n",
            " |      method.  e.g.\n",
            " |      \n",
            " |      >>> from Bio.Seq import Seq\n",
            " |      >>> from Bio.SeqRecord import SeqRecord\n",
            " |      >>> rec = SeqRecord(Seq(\"MASRGVNKVILVGNLGQDPEVRYMPNGGAVANITLATSESWRDKAT\"\n",
            " |      ...                     \"GEMKEQTEWHRVVLFGKLAEVASEYLRKGSQVYIEGQLRTRKWTDQ\"\n",
            " |      ...                     \"SGQDRYTTEVVVNVGGTMQMLGGRQGGGAPAGGNIGGGQPQGGWGQ\"\n",
            " |      ...                     \"PQQPQGGNQFSGGAQSRPQQSAPAAPSNEPPMDFDDDIPF\"),\n",
            " |      ...                 id=\"NP_418483.1\", name=\"b4059\",\n",
            " |      ...                 description=\"ssDNA-binding protein\",\n",
            " |      ...                 dbxrefs=[\"ASAP:13298\", \"GI:16131885\", \"GeneID:948570\"])\n",
            " |      >>> print(repr(rec))\n",
            " |      SeqRecord(seq=Seq('MASRGVNKVILVGNLGQDPEVRYMPNGGAVANITLATSESWRDKATGEMKEQTE...IPF'), id='NP_418483.1', name='b4059', description='ssDNA-binding protein', dbxrefs=['ASAP:13298', 'GI:16131885', 'GeneID:948570'])\n",
            " |      \n",
            " |      At the python prompt you can also use this shorthand:\n",
            " |      \n",
            " |      >>> rec\n",
            " |      SeqRecord(seq=Seq('MASRGVNKVILVGNLGQDPEVRYMPNGGAVANITLATSESWRDKATGEMKEQTE...IPF'), id='NP_418483.1', name='b4059', description='ssDNA-binding protein', dbxrefs=['ASAP:13298', 'GI:16131885', 'GeneID:948570'])\n",
            " |      \n",
            " |      Note that long sequences are shown truncated. Also note that any\n",
            " |      annotations, letter_annotations and features are not shown (as they\n",
            " |      would lead to a very long string).\n",
            " |  \n",
            " |  __str__(self)\n",
            " |      Return a human readable summary of the record and its annotation (string).\n",
            " |      \n",
            " |      The python built in function str works by calling the object's __str__\n",
            " |      method.  e.g.\n",
            " |      \n",
            " |      >>> from Bio.Seq import Seq\n",
            " |      >>> from Bio.SeqRecord import SeqRecord\n",
            " |      >>> record = SeqRecord(Seq(\"MKQHKAMIVALIVICITAVVAALVTRKDLCEVHIRTGQTEVAVF\"),\n",
            " |      ...                    id=\"YP_025292.1\", name=\"HokC\",\n",
            " |      ...                    description=\"toxic membrane protein, small\")\n",
            " |      >>> print(str(record))\n",
            " |      ID: YP_025292.1\n",
            " |      Name: HokC\n",
            " |      Description: toxic membrane protein, small\n",
            " |      Number of features: 0\n",
            " |      Seq('MKQHKAMIVALIVICITAVVAALVTRKDLCEVHIRTGQTEVAVF')\n",
            " |      \n",
            " |      In this example you don't actually need to call str explicitly, as the\n",
            " |      print command does this automatically:\n",
            " |      \n",
            " |      >>> print(record)\n",
            " |      ID: YP_025292.1\n",
            " |      Name: HokC\n",
            " |      Description: toxic membrane protein, small\n",
            " |      Number of features: 0\n",
            " |      Seq('MKQHKAMIVALIVICITAVVAALVTRKDLCEVHIRTGQTEVAVF')\n",
            " |      \n",
            " |      Note that long sequences are shown truncated.\n",
            " |  \n",
            " |  count(self, sub, start=None, end=None)\n",
            " |      Return the number of non-overlapping occurrences of sub in seq[start:end].\n",
            " |      \n",
            " |      Optional arguments start and end are interpreted as in slice notation.\n",
            " |      This method behaves as the count method of Python strings.\n",
            " |  \n",
            " |  format(self, format)\n",
            " |      Return the record as a string in the specified file format.\n",
            " |      \n",
            " |      The format should be a lower case string supported as an output\n",
            " |      format by Bio.SeqIO, which is used to turn the SeqRecord into a\n",
            " |      string.  e.g.\n",
            " |      \n",
            " |      >>> from Bio.Seq import Seq\n",
            " |      >>> from Bio.SeqRecord import SeqRecord\n",
            " |      >>> record = SeqRecord(Seq(\"MKQHKAMIVALIVICITAVVAALVTRKDLCEVHIRTGQTEVAVF\"),\n",
            " |      ...                    id=\"YP_025292.1\", name=\"HokC\",\n",
            " |      ...                    description=\"toxic membrane protein\")\n",
            " |      >>> record.format(\"fasta\")\n",
            " |      '>YP_025292.1 toxic membrane protein\\nMKQHKAMIVALIVICITAVVAALVTRKDLCEVHIRTGQTEVAVF\\n'\n",
            " |      >>> print(record.format(\"fasta\"))\n",
            " |      >YP_025292.1 toxic membrane protein\n",
            " |      MKQHKAMIVALIVICITAVVAALVTRKDLCEVHIRTGQTEVAVF\n",
            " |      <BLANKLINE>\n",
            " |      \n",
            " |      The Python print function automatically appends a new line, meaning\n",
            " |      in this example a blank line is shown.  If you look at the string\n",
            " |      representation you can see there is a trailing new line (shown as\n",
            " |      slash n) which is important when writing to a file or if\n",
            " |      concatenating multiple sequence strings together.\n",
            " |      \n",
            " |      Note that this method will NOT work on every possible file format\n",
            " |      supported by Bio.SeqIO (e.g. some are for multiple sequences only,\n",
            " |      and binary formats are not supported).\n",
            " |  \n",
            " |  islower(self)\n",
            " |      Return True if all ASCII characters in the record's sequence are lowercase.\n",
            " |      \n",
            " |      If there are no cased characters, the method returns False.\n",
            " |  \n",
            " |  isupper(self)\n",
            " |      Return True if all ASCII characters in the record's sequence are uppercase.\n",
            " |      \n",
            " |      If there are no cased characters, the method returns False.\n",
            " |  \n",
            " |  lower(self)\n",
            " |      Return a copy of the record with a lower case sequence.\n",
            " |      \n",
            " |      All the annotation is preserved unchanged. e.g.\n",
            " |      \n",
            " |      >>> from Bio import SeqIO\n",
            " |      >>> record = SeqIO.read(\"Fasta/aster.pro\", \"fasta\")\n",
            " |      >>> print(record.format(\"fasta\"))\n",
            " |      >gi|3298468|dbj|BAA31520.1| SAMIPF\n",
            " |      GGHVNPAVTFGAFVGGNITLLRGIVYIIAQLLGSTVACLLLKFVTNDMAVGVFSLSAGVG\n",
            " |      VTNALVFEIVMTFGLVYTVYATAIDPKKGSLGTIAPIAIGFIVGANI\n",
            " |      <BLANKLINE>\n",
            " |      >>> print(record.lower().format(\"fasta\"))\n",
            " |      >gi|3298468|dbj|BAA31520.1| SAMIPF\n",
            " |      gghvnpavtfgafvggnitllrgivyiiaqllgstvaclllkfvtndmavgvfslsagvg\n",
            " |      vtnalvfeivmtfglvytvyataidpkkgslgtiapiaigfivgani\n",
            " |      <BLANKLINE>\n",
            " |      \n",
            " |      To take a more annotation rich example,\n",
            " |      \n",
            " |      >>> from Bio import SeqIO\n",
            " |      >>> old = SeqIO.read(\"EMBL/TRBG361.embl\", \"embl\")\n",
            " |      >>> len(old.features)\n",
            " |      3\n",
            " |      >>> new = old.lower()\n",
            " |      >>> len(old.features) == len(new.features)\n",
            " |      True\n",
            " |      >>> old.annotations[\"organism\"] == new.annotations[\"organism\"]\n",
            " |      True\n",
            " |      >>> old.dbxrefs == new.dbxrefs\n",
            " |      True\n",
            " |  \n",
            " |  reverse_complement(self, id=False, name=False, description=False, features=True, annotations=False, letter_annotations=True, dbxrefs=False)\n",
            " |      Return new SeqRecord with reverse complement sequence.\n",
            " |      \n",
            " |      By default the new record does NOT preserve the sequence identifier,\n",
            " |      name, description, general annotation or database cross-references -\n",
            " |      these are unlikely to apply to the reversed sequence.\n",
            " |      \n",
            " |      You can specify the returned record's id, name and description as\n",
            " |      strings, or True to keep that of the parent, or False for a default.\n",
            " |      \n",
            " |      You can specify the returned record's features with a list of\n",
            " |      SeqFeature objects, or True to keep that of the parent, or False to\n",
            " |      omit them. The default is to keep the original features (with the\n",
            " |      strand and locations adjusted).\n",
            " |      \n",
            " |      You can also specify both the returned record's annotations and\n",
            " |      letter_annotations as dictionaries, True to keep that of the parent,\n",
            " |      or False to omit them. The default is to keep the original\n",
            " |      annotations (with the letter annotations reversed).\n",
            " |      \n",
            " |      To show what happens to the pre-letter annotations, consider an\n",
            " |      example Solexa variant FASTQ file with a single entry, which we'll\n",
            " |      read in as a SeqRecord:\n",
            " |      \n",
            " |      >>> from Bio import SeqIO\n",
            " |      >>> record = SeqIO.read(\"Quality/solexa_faked.fastq\", \"fastq-solexa\")\n",
            " |      >>> print(\"%s %s\" % (record.id, record.seq))\n",
            " |      slxa_0001_1_0001_01 ACGTACGTACGTACGTACGTACGTACGTACGTACGTACGTNNNNNN\n",
            " |      >>> print(list(record.letter_annotations))\n",
            " |      ['solexa_quality']\n",
            " |      >>> print(record.letter_annotations[\"solexa_quality\"])\n",
            " |      [40, 39, 38, 37, 36, 35, 34, 33, 32, 31, 30, 29, 28, 27, 26, 25, 24, 23, 22, 21, 20, 19, 18, 17, 16, 15, 14, 13, 12, 11, 10, 9, 8, 7, 6, 5, 4, 3, 2, 1, 0, -1, -2, -3, -4, -5]\n",
            " |      \n",
            " |      Now take the reverse complement, here we explicitly give a new\n",
            " |      identifier (the old identifier with a suffix):\n",
            " |      \n",
            " |      >>> rc_record = record.reverse_complement(id=record.id + \"_rc\")\n",
            " |      >>> print(\"%s %s\" % (rc_record.id, rc_record.seq))\n",
            " |      slxa_0001_1_0001_01_rc NNNNNNACGTACGTACGTACGTACGTACGTACGTACGTACGTACGT\n",
            " |      \n",
            " |      Notice that the per-letter-annotations have also been reversed,\n",
            " |      although this may not be appropriate for all cases.\n",
            " |      \n",
            " |      >>> print(rc_record.letter_annotations[\"solexa_quality\"])\n",
            " |      [-5, -4, -3, -2, -1, 0, 1, 2, 3, 4, 5, 6, 7, 8, 9, 10, 11, 12, 13, 14, 15, 16, 17, 18, 19, 20, 21, 22, 23, 24, 25, 26, 27, 28, 29, 30, 31, 32, 33, 34, 35, 36, 37, 38, 39, 40]\n",
            " |      \n",
            " |      Now for the features, we need a different example. Parsing a GenBank\n",
            " |      file is probably the easiest way to get an nice example with features\n",
            " |      in it...\n",
            " |      \n",
            " |      >>> from Bio import SeqIO\n",
            " |      >>> with open(\"GenBank/pBAD30.gb\") as handle:\n",
            " |      ...     plasmid = SeqIO.read(handle, \"gb\")\n",
            " |      >>> print(\"%s %i\" % (plasmid.id, len(plasmid)))\n",
            " |      pBAD30 4923\n",
            " |      >>> plasmid.seq\n",
            " |      Seq('GCTAGCGGAGTGTATACTGGCTTACTATGTTGGCACTGATGAGGGTGTCAGTGA...ATG')\n",
            " |      >>> len(plasmid.features)\n",
            " |      13\n",
            " |      \n",
            " |      Now, let's take the reverse complement of this whole plasmid:\n",
            " |      \n",
            " |      >>> rc_plasmid = plasmid.reverse_complement(id=plasmid.id+\"_rc\")\n",
            " |      >>> print(\"%s %i\" % (rc_plasmid.id, len(rc_plasmid)))\n",
            " |      pBAD30_rc 4923\n",
            " |      >>> rc_plasmid.seq\n",
            " |      Seq('CATGGGCAAATATTATACGCAAGGCGACAAGGTGCTGATGCCGCTGGCGATTCA...AGC')\n",
            " |      >>> len(rc_plasmid.features)\n",
            " |      13\n",
            " |      \n",
            " |      Let's compare the first CDS feature - it has gone from being the\n",
            " |      second feature (index 1) to the second last feature (index -2), its\n",
            " |      strand has changed, and the location switched round.\n",
            " |      \n",
            " |      >>> print(plasmid.features[1])\n",
            " |      type: CDS\n",
            " |      location: [1081:1960](-)\n",
            " |      qualifiers:\n",
            " |          Key: label, Value: ['araC']\n",
            " |          Key: note, Value: ['araC regulator of the arabinose BAD promoter']\n",
            " |          Key: vntifkey, Value: ['4']\n",
            " |      <BLANKLINE>\n",
            " |      >>> print(rc_plasmid.features[-2])\n",
            " |      type: CDS\n",
            " |      location: [2963:3842](+)\n",
            " |      qualifiers:\n",
            " |          Key: label, Value: ['araC']\n",
            " |          Key: note, Value: ['araC regulator of the arabinose BAD promoter']\n",
            " |          Key: vntifkey, Value: ['4']\n",
            " |      <BLANKLINE>\n",
            " |      \n",
            " |      You can check this new location, based on the length of the plasmid:\n",
            " |      \n",
            " |      >>> len(plasmid) - 1081\n",
            " |      3842\n",
            " |      >>> len(plasmid) - 1960\n",
            " |      2963\n",
            " |      \n",
            " |      Note that if the SeqFeature annotation includes any strand specific\n",
            " |      information (e.g. base changes for a SNP), this information is not\n",
            " |      amended, and would need correction after the reverse complement.\n",
            " |      \n",
            " |      Note trying to reverse complement a protein SeqRecord raises an\n",
            " |      exception:\n",
            " |      \n",
            " |      >>> from Bio.Seq import Seq\n",
            " |      >>> from Bio.SeqRecord import SeqRecord\n",
            " |      >>> protein_rec = SeqRecord(Seq(\"MAIVMGR\"), id=\"Test\",\n",
            " |      ...                         annotations={\"molecule_type\": \"protein\"})\n",
            " |      >>> protein_rec.reverse_complement()\n",
            " |      Traceback (most recent call last):\n",
            " |         ...\n",
            " |      ValueError: Proteins do not have complements!\n",
            " |      \n",
            " |      If you have RNA without any U bases, it must be annotated as RNA\n",
            " |      otherwise it will be treated as DNA by default with A mapped to T:\n",
            " |      \n",
            " |      >>> from Bio.Seq import Seq\n",
            " |      >>> from Bio.SeqRecord import SeqRecord\n",
            " |      >>> rna1 = SeqRecord(Seq(\"ACG\"), id=\"Test\")\n",
            " |      >>> rna2 = SeqRecord(Seq(\"ACG\"), id=\"Test\", annotations={\"molecule_type\": \"RNA\"})\n",
            " |      >>> print(rna1.reverse_complement(id=\"RC\", description=\"unk\").format(\"fasta\"))\n",
            " |      >RC unk\n",
            " |      CGT\n",
            " |      <BLANKLINE>\n",
            " |      >>> print(rna2.reverse_complement(id=\"RC\", description=\"RNA\").format(\"fasta\"))\n",
            " |      >RC RNA\n",
            " |      CGU\n",
            " |      <BLANKLINE>\n",
            " |      \n",
            " |      Also note you can reverse complement a SeqRecord using a MutableSeq:\n",
            " |      \n",
            " |      >>> from Bio.Seq import MutableSeq\n",
            " |      >>> from Bio.SeqRecord import SeqRecord\n",
            " |      >>> rec = SeqRecord(MutableSeq(\"ACGT\"), id=\"Test\")\n",
            " |      >>> rec.seq[0] = \"T\"\n",
            " |      >>> print(\"%s %s\" % (rec.id, rec.seq))\n",
            " |      Test TCGT\n",
            " |      >>> rc = rec.reverse_complement(id=True)\n",
            " |      >>> print(\"%s %s\" % (rc.id, rc.seq))\n",
            " |      Test ACGA\n",
            " |  \n",
            " |  translate(self, table='Standard', stop_symbol='*', to_stop=False, cds=False, gap=None, id=False, name=False, description=False, features=False, annotations=False, letter_annotations=False, dbxrefs=False)\n",
            " |      Return new SeqRecord with translated sequence.\n",
            " |      \n",
            " |      This calls the record's .seq.translate() method (which describes\n",
            " |      the translation related arguments, like table for the genetic code),\n",
            " |      \n",
            " |      By default the new record does NOT preserve the sequence identifier,\n",
            " |      name, description, general annotation or database cross-references -\n",
            " |      these are unlikely to apply to the translated sequence.\n",
            " |      \n",
            " |      You can specify the returned record's id, name and description as\n",
            " |      strings, or True to keep that of the parent, or False for a default.\n",
            " |      \n",
            " |      You can specify the returned record's features with a list of\n",
            " |      SeqFeature objects, or False (default) to omit them.\n",
            " |      \n",
            " |      You can also specify both the returned record's annotations and\n",
            " |      letter_annotations as dictionaries, True to keep that of the parent\n",
            " |      (annotations only), or False (default) to omit them.\n",
            " |      \n",
            " |      e.g. Loading a FASTA gene and translating it,\n",
            " |      \n",
            " |      >>> from Bio import SeqIO\n",
            " |      >>> gene_record = SeqIO.read(\"Fasta/sweetpea.nu\", \"fasta\")\n",
            " |      >>> print(gene_record.format(\"fasta\"))\n",
            " |      >gi|3176602|gb|U78617.1|LOU78617 Lathyrus odoratus phytochrome A (PHYA) gene, partial cds\n",
            " |      CAGGCTGCGCGGTTTCTATTTATGAAGAACAAGGTCCGTATGATAGTTGATTGTCATGCA\n",
            " |      AAACATGTGAAGGTTCTTCAAGACGAAAAACTCCCATTTGATTTGACTCTGTGCGGTTCG\n",
            " |      ACCTTAAGAGCTCCACATAGTTGCCATTTGCAGTACATGGCTAACATGGATTCAATTGCT\n",
            " |      TCATTGGTTATGGCAGTGGTCGTCAATGACAGCGATGAAGATGGAGATAGCCGTGACGCA\n",
            " |      GTTCTACCACAAAAGAAAAAGAGACTTTGGGGTTTGGTAGTTTGTCATAACACTACTCCG\n",
            " |      AGGTTTGTT\n",
            " |      <BLANKLINE>\n",
            " |      \n",
            " |      And now translating the record, specifying the new ID and description:\n",
            " |      \n",
            " |      >>> protein_record = gene_record.translate(table=11,\n",
            " |      ...                                        id=\"phya\",\n",
            " |      ...                                        description=\"translation\")\n",
            " |      >>> print(protein_record.format(\"fasta\"))\n",
            " |      >phya translation\n",
            " |      QAARFLFMKNKVRMIVDCHAKHVKVLQDEKLPFDLTLCGSTLRAPHSCHLQYMANMDSIA\n",
            " |      SLVMAVVVNDSDEDGDSRDAVLPQKKKRLWGLVVCHNTTPRFV\n",
            " |      <BLANKLINE>\n",
            " |  \n",
            " |  upper(self)\n",
            " |      Return a copy of the record with an upper case sequence.\n",
            " |      \n",
            " |      All the annotation is preserved unchanged. e.g.\n",
            " |      \n",
            " |      >>> from Bio.Seq import Seq\n",
            " |      >>> from Bio.SeqRecord import SeqRecord\n",
            " |      >>> record = SeqRecord(Seq(\"acgtACGT\"), id=\"Test\",\n",
            " |      ...                    description = \"Made up for this example\")\n",
            " |      >>> record.letter_annotations[\"phred_quality\"] = [1, 2, 3, 4, 5, 6, 7, 8]\n",
            " |      >>> print(record.upper().format(\"fastq\"))\n",
            " |      @Test Made up for this example\n",
            " |      ACGTACGT\n",
            " |      +\n",
            " |      \"#$%&'()\n",
            " |      <BLANKLINE>\n",
            " |      \n",
            " |      Naturally, there is a matching lower method:\n",
            " |      \n",
            " |      >>> print(record.lower().format(\"fastq\"))\n",
            " |      @Test Made up for this example\n",
            " |      acgtacgt\n",
            " |      +\n",
            " |      \"#$%&'()\n",
            " |      <BLANKLINE>\n",
            " |  \n",
            " |  ----------------------------------------------------------------------\n",
            " |  Data descriptors defined here:\n",
            " |  \n",
            " |  __dict__\n",
            " |      dictionary for instance variables (if defined)\n",
            " |  \n",
            " |  __weakref__\n",
            " |      list of weak references to the object (if defined)\n",
            " |  \n",
            " |  letter_annotations\n",
            " |      Dictionary of per-letter-annotation for the sequence.\n",
            " |      \n",
            " |      For example, this can hold quality scores used in FASTQ or QUAL files.\n",
            " |      Consider this example using Bio.SeqIO to read in an example Solexa\n",
            " |      variant FASTQ file as a SeqRecord:\n",
            " |      \n",
            " |      >>> from Bio import SeqIO\n",
            " |      >>> record = SeqIO.read(\"Quality/solexa_faked.fastq\", \"fastq-solexa\")\n",
            " |      >>> print(\"%s %s\" % (record.id, record.seq))\n",
            " |      slxa_0001_1_0001_01 ACGTACGTACGTACGTACGTACGTACGTACGTACGTACGTNNNNNN\n",
            " |      >>> print(list(record.letter_annotations))\n",
            " |      ['solexa_quality']\n",
            " |      >>> print(record.letter_annotations[\"solexa_quality\"])\n",
            " |      [40, 39, 38, 37, 36, 35, 34, 33, 32, 31, 30, 29, 28, 27, 26, 25, 24, 23, 22, 21, 20, 19, 18, 17, 16, 15, 14, 13, 12, 11, 10, 9, 8, 7, 6, 5, 4, 3, 2, 1, 0, -1, -2, -3, -4, -5]\n",
            " |      \n",
            " |      The letter_annotations get sliced automatically if you slice the\n",
            " |      parent SeqRecord, for example taking the last ten bases:\n",
            " |      \n",
            " |      >>> sub_record = record[-10:]\n",
            " |      >>> print(\"%s %s\" % (sub_record.id, sub_record.seq))\n",
            " |      slxa_0001_1_0001_01 ACGTNNNNNN\n",
            " |      >>> print(sub_record.letter_annotations[\"solexa_quality\"])\n",
            " |      [4, 3, 2, 1, 0, -1, -2, -3, -4, -5]\n",
            " |      \n",
            " |      Any python sequence (i.e. list, tuple or string) can be recorded in\n",
            " |      the SeqRecord's letter_annotations dictionary as long as the length\n",
            " |      matches that of the SeqRecord's sequence.  e.g.\n",
            " |      \n",
            " |      >>> len(sub_record.letter_annotations)\n",
            " |      1\n",
            " |      >>> sub_record.letter_annotations[\"dummy\"] = \"abcdefghij\"\n",
            " |      >>> len(sub_record.letter_annotations)\n",
            " |      2\n",
            " |      \n",
            " |      You can delete entries from the letter_annotations dictionary as usual:\n",
            " |      \n",
            " |      >>> del sub_record.letter_annotations[\"solexa_quality\"]\n",
            " |      >>> sub_record.letter_annotations\n",
            " |      {'dummy': 'abcdefghij'}\n",
            " |      \n",
            " |      You can completely clear the dictionary easily as follows:\n",
            " |      \n",
            " |      >>> sub_record.letter_annotations = {}\n",
            " |      >>> sub_record.letter_annotations\n",
            " |      {}\n",
            " |      \n",
            " |      Note that if replacing the record's sequence with a sequence of a\n",
            " |      different length you must first clear the letter_annotations dict.\n",
            " |  \n",
            " |  seq\n",
            " |      The sequence itself, as a Seq or MutableSeq object.\n",
            " |  \n",
            " |  ----------------------------------------------------------------------\n",
            " |  Data and other attributes defined here:\n",
            " |  \n",
            " |  __hash__ = None\n",
            "\n"
          ]
        }
      ],
      "source": [
        "from Bio.SeqRecord import SeqRecord\n",
        "help(SeqRecord)"
      ]
    },
    {
      "cell_type": "markdown",
      "source": [
        "##4.1 Объект SeqRecord\n",
        "\n",
        "Класс SeqRecord(Sequence Record) определен в Bio.SeqRecord модуле. Этот класс позволяет связывать с последовательностью функции более высокого уровня, такие как идентификаторы и функции (см. главу 3 ), и является базовым типом данных для Bio.SeqIO интерфейса ввода/вывода последовательности (см. главу 5 ).\n",
        "\n",
        "Сам SeqRecord класс довольно прост и предлагает следующую информацию в качестве атрибутов:\n",
        "* .seq\n",
        "– Сама последовательность, обычно Seqобъект.\n",
        "* .id\n",
        "– Основной идентификатор, используемый для идентификации последовательности – строка. В большинстве случаев это что-то вроде инвентарного номера.\n",
        "* .name\n",
        "– «Общее» имя/идентификатор последовательности – строка. В некоторых случаях это будет то же самое, что и инвентарный номер, но это также может быть имя клона. Я думаю об этом как об аналоге идентификатора LOCUS в записи GenBank.\n",
        "* .description\n",
        "– Удобочитаемое описание или выразительное имя последовательности – строка.\n",
        "* .letter_annotations\n",
        "– Содержит побуквенные аннотации с использованием (ограниченного) словаря дополнительной информации о буквах в последовательности. Ключи — это имя информации, а информация содержится в значении в виде последовательности Python (т. е. списка, кортежа или строки) той же длины, что и сама последовательность. Это часто используется для оценки качества (например, раздел ‍ 20.1.6 ) или информации о вторичной структуре (например, из файлов выравнивания Stockholm/PFAM).\n",
        "* .annotations\n",
        "– Словарь дополнительной информации о последовательности. Ключи — это имя информации, а информация содержится в значении. Это позволяет добавлять в последовательность больше «неструктурированной» информации.\n",
        "* .features\n",
        "– Список SeqFeatureобъектов с более структурированной информацией об особенностях последовательности (например, положение генов в геноме или доменов в белковой последовательности). Структура признаков последовательности описана ниже в разделе ‍ 4.3 .\n",
        "* .dbxrefs – Список перекрестных ссылок базы данных в виде строк."
      ],
      "metadata": {
        "id": "xplJAMKkbYdb"
      }
    },
    {
      "cell_type": "markdown",
      "source": [
        "##4.2 Создание SeqRecord\n",
        "Использование SeqRecord объекта не очень сложно, так как вся информация представлена ​​в виде атрибутов класса. Обычно вы не будете создавать SeqRecord «вручную», а вместо этого будете использовать Bio.SeqIO для чтения файл последовательности (см. главу ‍ 5 и примеры ниже). Однако создание SeqRecord может быть довольно простым."
      ],
      "metadata": {
        "id": "kg3KuPXdh6kr"
      }
    },
    {
      "cell_type": "markdown",
      "source": [
        "###4.2.1 Объекты SeqRecord с нуля\n",
        "Чтобы создать как SeqRecord минимум, вам просто нужен Seqобъект:"
      ],
      "metadata": {
        "id": "GIhb554jiCap"
      }
    },
    {
      "cell_type": "code",
      "source": [
        "from Bio.Seq import Seq\n",
        "simple_seq = Seq(\"GATC\")\n",
        "from Bio.SeqRecord import SeqRecord\n",
        "simple_seq_r = SeqRecord(simple_seq)"
      ],
      "metadata": {
        "id": "hh-hiejaiSkb"
      },
      "execution_count": 77,
      "outputs": []
    },
    {
      "cell_type": "markdown",
      "source": [
        "Кроме того, вы также можете передать идентификатор, имя и описание функции инициализации, но в противном случае они будут установлены как строки, указывающие на то, что они неизвестны, и могут быть впоследствии изменены:"
      ],
      "metadata": {
        "id": "Q4LjuUCriaiJ"
      }
    },
    {
      "cell_type": "code",
      "source": [
        "simple_seq_r.id"
      ],
      "metadata": {
        "colab": {
          "base_uri": "https://localhost:8080/",
          "height": 36
        },
        "id": "MmbmiUu5ibgh",
        "outputId": "5a8cb8f8-e43a-490e-ba2e-7f3faafe590e"
      },
      "execution_count": 78,
      "outputs": [
        {
          "output_type": "execute_result",
          "data": {
            "text/plain": [
              "'<unknown id>'"
            ],
            "application/vnd.google.colaboratory.intrinsic+json": {
              "type": "string"
            }
          },
          "metadata": {},
          "execution_count": 78
        }
      ]
    },
    {
      "cell_type": "code",
      "source": [
        "simple_seq_r.id = \"AC12345\"\n",
        "simple_seq_r.description = \"Выдуманная последовательность, о которой я хотел бы написать статью\"\n",
        "print(simple_seq_r.description)"
      ],
      "metadata": {
        "colab": {
          "base_uri": "https://localhost:8080/"
        },
        "id": "x1-j_BK_iiqx",
        "outputId": "3d927441-39a3-4e66-ab4e-d5fe164adc3e"
      },
      "execution_count": 79,
      "outputs": [
        {
          "output_type": "stream",
          "name": "stdout",
          "text": [
            "Выдуманная последовательность, о которой я хотел бы написать статью\n"
          ]
        }
      ]
    },
    {
      "cell_type": "code",
      "source": [
        "simple_seq_r.seq"
      ],
      "metadata": {
        "colab": {
          "base_uri": "https://localhost:8080/"
        },
        "id": "2DNmJ8hTiqWj",
        "outputId": "c6052e23-546d-49fd-9f92-ea6f60e780e8"
      },
      "execution_count": 80,
      "outputs": [
        {
          "output_type": "execute_result",
          "data": {
            "text/plain": [
              "Seq('GATC')"
            ]
          },
          "metadata": {},
          "execution_count": 80
        }
      ]
    },
    {
      "cell_type": "markdown",
      "source": [
        "Включение идентификатора очень важно, если вы хотите вывести SeqRecord его в файл. Обычно вы включаете это при создании объекта:"
      ],
      "metadata": {
        "id": "JSWMm9M0jEoc"
      }
    },
    {
      "cell_type": "code",
      "source": [
        "from Bio.Seq import Seq\n",
        "simple_seq = Seq(\"GATC\")\n",
        "from Bio.SeqRecord import SeqRecord\n",
        "simple_seq_r = SeqRecord(simple_seq, id=\"AC12345\")"
      ],
      "metadata": {
        "id": "0NifWpM0jgh4"
      },
      "execution_count": 81,
      "outputs": []
    },
    {
      "cell_type": "markdown",
      "source": [
        "Как упоминалось выше, SeqRecord имеет атрибут словаря annotations. Это используется для любых разных аннотаций, которые не подходят ни под один из других более конкретных атрибутов. Добавление аннотаций очень просто и требует непосредственного обращения к словарю аннотаций:"
      ],
      "metadata": {
        "id": "4kZiN8Jtjqlz"
      }
    },
    {
      "cell_type": "code",
      "source": [
        "simple_seq_r.annotations[\"evidence\"] = \"Никто. Я только что выдумал.\"\n",
        "print(simple_seq_r.annotations)"
      ],
      "metadata": {
        "colab": {
          "base_uri": "https://localhost:8080/"
        },
        "id": "P6QcEwVZjynI",
        "outputId": "9b352343-bc4b-4981-8ca1-fab3d74b56a9"
      },
      "execution_count": 82,
      "outputs": [
        {
          "output_type": "stream",
          "name": "stdout",
          "text": [
            "{'evidence': 'Никто. Я только что выдумал.'}\n"
          ]
        }
      ]
    },
    {
      "cell_type": "code",
      "source": [
        "print(simple_seq_r.annotations[\"evidence\"])"
      ],
      "metadata": {
        "colab": {
          "base_uri": "https://localhost:8080/"
        },
        "id": "o3gkX1-4kO7h",
        "outputId": "add9621f-596e-4443-906f-81d255b9bef9"
      },
      "execution_count": 83,
      "outputs": [
        {
          "output_type": "stream",
          "name": "stdout",
          "text": [
            "Никто. Я только что выдумал.\n"
          ]
        }
      ]
    },
    {
      "cell_type": "markdown",
      "source": [
        "Работа с побуквенными аннотациями аналогична, letter_annotations это атрибут, похожий на словарь, который позволит вам назначить любую последовательность Python (то есть строку, список или кортеж), которая имеет ту же длину, что и последовательность:"
      ],
      "metadata": {
        "id": "rFTR_EmCkZzX"
      }
    },
    {
      "cell_type": "code",
      "source": [
        "simple_seq_r.letter_annotations[\"phred_quality\"] = [40, 40, 38, 30]\n",
        "print(simple_seq_r.letter_annotations)"
      ],
      "metadata": {
        "colab": {
          "base_uri": "https://localhost:8080/"
        },
        "id": "9SjHJziTkZFo",
        "outputId": "b2bb5e39-4afc-4b5d-8b9a-5dbbd78585c9"
      },
      "execution_count": 84,
      "outputs": [
        {
          "output_type": "stream",
          "name": "stdout",
          "text": [
            "{'phred_quality': [40, 40, 38, 30]}\n"
          ]
        }
      ]
    },
    {
      "cell_type": "code",
      "source": [
        "print(simple_seq_r.letter_annotations[\"phred_quality\"])"
      ],
      "metadata": {
        "colab": {
          "base_uri": "https://localhost:8080/"
        },
        "id": "HuksR22zkndA",
        "outputId": "dc3b0f71-32ca-416b-8852-d3841fe5e7a3"
      },
      "execution_count": 85,
      "outputs": [
        {
          "output_type": "stream",
          "name": "stdout",
          "text": [
            "[40, 40, 38, 30]\n"
          ]
        }
      ]
    },
    {
      "cell_type": "markdown",
      "source": [
        "Атрибуты dbxrefs и features— это просто списки Python, и их следует использовать для хранения строк и SeqFeature объектов (обсуждаемых далее в этой главе) соответственно."
      ],
      "metadata": {
        "id": "vmfvwBXykw7a"
      }
    },
    {
      "cell_type": "markdown",
      "source": [
        "###4.2.2 Объекты SeqRecord из файлов FASTA\n",
        "В этом примере используется довольно большой файл FASTA, содержащий всю последовательность Yersinia pestis биовара Microtus str. 91001 плазмида pPCP1, первоначально загруженная из NCBI. Этот файл включен в модульные тесты Biopython в папке GenBank или онлайн NC_005816.fna с нашего веб-сайта.\n",
        "\n",
        "Файл начинается так - и вы можете проверить, что присутствует только одна запись (т.е. только одна строка, начинающаяся с символа больше):"
      ],
      "metadata": {
        "id": "avejbcUJk3YQ"
      }
    },
    {
      "cell_type": "code",
      "source": [
        "!wget https://raw.githubusercontent.com/biopython/biopython/master/Tests/GenBank/NC_005816.fna"
      ],
      "metadata": {
        "colab": {
          "base_uri": "https://localhost:8080/"
        },
        "id": "wzW2rhYdlKto",
        "outputId": "c9fa309c-1059-46f0-dcda-d9f98212b3fd"
      },
      "execution_count": 86,
      "outputs": [
        {
          "output_type": "stream",
          "name": "stdout",
          "text": [
            "--2023-02-01 19:06:24--  https://raw.githubusercontent.com/biopython/biopython/master/Tests/GenBank/NC_005816.fna\n",
            "Resolving raw.githubusercontent.com (raw.githubusercontent.com)... 185.199.111.133, 185.199.110.133, 185.199.109.133, ...\n",
            "Connecting to raw.githubusercontent.com (raw.githubusercontent.com)|185.199.111.133|:443... connected.\n",
            "HTTP request sent, awaiting response... 200 OK\n",
            "Length: 9853 (9.6K) [text/plain]\n",
            "Saving to: ‘NC_005816.fna.1’\n",
            "\n",
            "\rNC_005816.fna.1       0%[                    ]       0  --.-KB/s               \rNC_005816.fna.1     100%[===================>]   9.62K  --.-KB/s    in 0s      \n",
            "\n",
            "2023-02-01 19:06:24 (94.7 MB/s) - ‘NC_005816.fna.1’ saved [9853/9853]\n",
            "\n"
          ]
        }
      ]
    },
    {
      "cell_type": "code",
      "source": [
        "# >gi|45478711|ref|NC_005816.1| Yersinia pestis biovar Microtus str. 91001 plasmid pPCP1, complete sequence\n",
        "# TGTAACGAACGGTGCAATAGTGATCCACACCCAACGCCTGAAATCAGATCCAGGGGGTAATCTGCTCTCC......"
      ],
      "metadata": {
        "id": "Qolxb7yqktqK"
      },
      "execution_count": 87,
      "outputs": []
    },
    {
      "cell_type": "markdown",
      "source": [
        "Еще в главе 2 вы видели функцию, Bio.SeqIO.parse(...) используемую для циклического просмотра всех записей в файле как SeqRecord объектов. У Bio.SeqIO модуля есть родственная функция для использования с файлами, которые содержат только одну запись, которую мы будем использовать здесь (подробности см . в главе ‍ 5):"
      ],
      "metadata": {
        "id": "lMSPMkyMmNBI"
      }
    },
    {
      "cell_type": "code",
      "source": [
        "from Bio import SeqIO\n",
        "record = SeqIO.read(\"/content/NC_005816.fna\", \"fasta\")\n",
        "record"
      ],
      "metadata": {
        "colab": {
          "base_uri": "https://localhost:8080/"
        },
        "id": "OJBdAdSamiWC",
        "outputId": "d2e55c0f-0698-430b-b278-2cd4b2b9f673"
      },
      "execution_count": 88,
      "outputs": [
        {
          "output_type": "execute_result",
          "data": {
            "text/plain": [
              "SeqRecord(seq=Seq('TGTAACGAACGGTGCAATAGTGATCCACACCCAACGCCTGAAATCAGATCCAGG...CTG'), id='gi|45478711|ref|NC_005816.1|', name='gi|45478711|ref|NC_005816.1|', description='gi|45478711|ref|NC_005816.1| Yersinia pestis biovar Microtus str. 91001 plasmid pPCP1, complete sequence', dbxrefs=[])"
            ]
          },
          "metadata": {},
          "execution_count": 88
        }
      ]
    },
    {
      "cell_type": "markdown",
      "source": [
        "Теперь давайте взглянем на ключевые атрибуты этого по SeqRecord отдельности, начиная с seq атрибута, который дает вам Seq объект:"
      ],
      "metadata": {
        "id": "BaUUm_Dfm6qa"
      }
    },
    {
      "cell_type": "code",
      "source": [
        "record.seq"
      ],
      "metadata": {
        "colab": {
          "base_uri": "https://localhost:8080/"
        },
        "id": "ZJEILRJ5m93o",
        "outputId": "ed690d11-0349-49a2-a941-d288a0704bdc"
      },
      "execution_count": 89,
      "outputs": [
        {
          "output_type": "execute_result",
          "data": {
            "text/plain": [
              "Seq('TGTAACGAACGGTGCAATAGTGATCCACACCCAACGCCTGAAATCAGATCCAGG...CTG')"
            ]
          },
          "metadata": {},
          "execution_count": 89
        }
      ]
    },
    {
      "cell_type": "markdown",
      "source": [
        "Далее идентификаторы и описание:"
      ],
      "metadata": {
        "id": "lXITvVYanNao"
      }
    },
    {
      "cell_type": "code",
      "source": [
        "record.id"
      ],
      "metadata": {
        "colab": {
          "base_uri": "https://localhost:8080/",
          "height": 36
        },
        "id": "ZcU3NPtUnFeX",
        "outputId": "2c7771c4-9446-446b-b33f-d528460485c8"
      },
      "execution_count": 90,
      "outputs": [
        {
          "output_type": "execute_result",
          "data": {
            "text/plain": [
              "'gi|45478711|ref|NC_005816.1|'"
            ],
            "application/vnd.google.colaboratory.intrinsic+json": {
              "type": "string"
            }
          },
          "metadata": {},
          "execution_count": 90
        }
      ]
    },
    {
      "cell_type": "code",
      "source": [
        "record.name"
      ],
      "metadata": {
        "colab": {
          "base_uri": "https://localhost:8080/",
          "height": 36
        },
        "id": "yuY_jvWvnSZ2",
        "outputId": "ade81539-b031-4e6d-a07f-57fd39e0e0db"
      },
      "execution_count": 91,
      "outputs": [
        {
          "output_type": "execute_result",
          "data": {
            "text/plain": [
              "'gi|45478711|ref|NC_005816.1|'"
            ],
            "application/vnd.google.colaboratory.intrinsic+json": {
              "type": "string"
            }
          },
          "metadata": {},
          "execution_count": 91
        }
      ]
    },
    {
      "cell_type": "code",
      "source": [
        "record.description"
      ],
      "metadata": {
        "colab": {
          "base_uri": "https://localhost:8080/",
          "height": 36
        },
        "id": "RdPJz7HlnXAx",
        "outputId": "63cb14ca-1848-4ff5-b3f7-a3ccc11196c8"
      },
      "execution_count": 92,
      "outputs": [
        {
          "output_type": "execute_result",
          "data": {
            "text/plain": [
              "'gi|45478711|ref|NC_005816.1| Yersinia pestis biovar Microtus str. 91001 plasmid pPCP1, complete sequence'"
            ],
            "application/vnd.google.colaboratory.intrinsic+json": {
              "type": "string"
            }
          },
          "metadata": {},
          "execution_count": 92
        }
      ]
    },
    {
      "cell_type": "markdown",
      "source": [
        "Как вы можете видеть выше, первое слово строки заголовка записи FASTA (после удаления символа «больше») используется как для атрибутов, так id и для name атрибутов. Вся строка заголовка (после удаления символа «больше») используется для описания записи. Это сделано преднамеренно, отчасти из соображений обратной совместимости, но также имеет смысл, если у вас есть такой файл FASTA:"
      ],
      "metadata": {
        "id": "5kpF9EXuniaf"
      }
    },
    {
      "cell_type": "code",
      "source": [
        "# Yersinia pestis biovar Microtus str. 91001 plasmid pPCP1\n",
        "# TGTAACGAACGGTGCAATAGTGATCCACACCCAACGCCTGAAATCAGATCCAGGGGGTAATCTGCTCTCC\n",
        "# ...\n"
      ],
      "metadata": {
        "id": "yWJguTnanyVz"
      },
      "execution_count": 93,
      "outputs": []
    },
    {
      "cell_type": "markdown",
      "source": [
        "Обратите внимание, что ни один из других атрибутов аннотации не заполняется при чтении файла FASTA:"
      ],
      "metadata": {
        "id": "UB3tkGXsn6OX"
      }
    },
    {
      "cell_type": "code",
      "source": [
        "record.dbxrefs"
      ],
      "metadata": {
        "colab": {
          "base_uri": "https://localhost:8080/"
        },
        "id": "gl7gg6hYn-sf",
        "outputId": "c2b610c2-cd3c-4d47-978b-799b88d4cf6c"
      },
      "execution_count": 94,
      "outputs": [
        {
          "output_type": "execute_result",
          "data": {
            "text/plain": [
              "[]"
            ]
          },
          "metadata": {},
          "execution_count": 94
        }
      ]
    },
    {
      "cell_type": "code",
      "source": [
        "record.annotations"
      ],
      "metadata": {
        "colab": {
          "base_uri": "https://localhost:8080/"
        },
        "id": "mqXUvZUwoBhn",
        "outputId": "e00125d5-73e3-465c-fc16-62cfd9430108"
      },
      "execution_count": 95,
      "outputs": [
        {
          "output_type": "execute_result",
          "data": {
            "text/plain": [
              "{}"
            ]
          },
          "metadata": {},
          "execution_count": 95
        }
      ]
    },
    {
      "cell_type": "code",
      "source": [
        "record.letter_annotations"
      ],
      "metadata": {
        "colab": {
          "base_uri": "https://localhost:8080/"
        },
        "id": "fApkw-czoFTp",
        "outputId": "0cdb4d7d-915c-408c-d265-526ae512b7f0"
      },
      "execution_count": 96,
      "outputs": [
        {
          "output_type": "execute_result",
          "data": {
            "text/plain": [
              "{}"
            ]
          },
          "metadata": {},
          "execution_count": 96
        }
      ]
    },
    {
      "cell_type": "code",
      "source": [
        "record.features"
      ],
      "metadata": {
        "colab": {
          "base_uri": "https://localhost:8080/"
        },
        "id": "BZPdCYe8oMle",
        "outputId": "9ad4afca-bd88-4480-dea6-e55db439dcd4"
      },
      "execution_count": 97,
      "outputs": [
        {
          "output_type": "execute_result",
          "data": {
            "text/plain": [
              "[]"
            ]
          },
          "metadata": {},
          "execution_count": 97
        }
      ]
    },
    {
      "cell_type": "markdown",
      "source": [
        "В этом случае наш пример файла FASTA был из NCBI, и у них есть довольно четко определенный набор соглашений для форматирования их строк FASTA. Это означает, что можно будет проанализировать эту информацию и, например, извлечь номер GI и принадлежность. Однако файлы FASTA из других источников различаются, поэтому в общем случае это невозможно."
      ],
      "metadata": {
        "id": "EuCbKkPYoprA"
      }
    },
    {
      "cell_type": "markdown",
      "source": [
        "###4.2.3 Объекты SeqRecord из файлов GenBank\n",
        "Как и в предыдущем примере, мы рассмотрим всю последовательность для биовара Yersinia pestis Microtus str. 91001 плазмида pPCP1, первоначально загруженная из NCBI, но на этот раз в виде файла GenBank. Опять же, этот файл включен в модульные тесты Biopython в папке GenBank или онлайн NC_005816.gb с нашего веб-сайта."
      ],
      "metadata": {
        "id": "GN4ip8mEo9A_"
      }
    },
    {
      "cell_type": "code",
      "source": [
        "!wget https://raw.githubusercontent.com/biopython/biopython/master/Tests/GenBank/NC_005816.gb"
      ],
      "metadata": {
        "colab": {
          "base_uri": "https://localhost:8080/"
        },
        "id": "FZZgUGhQpErP",
        "outputId": "a96f42d9-6b83-424f-af7e-0980a723f80a"
      },
      "execution_count": 98,
      "outputs": [
        {
          "output_type": "stream",
          "name": "stdout",
          "text": [
            "--2023-02-01 19:06:24--  https://raw.githubusercontent.com/biopython/biopython/master/Tests/GenBank/NC_005816.gb\n",
            "Resolving raw.githubusercontent.com (raw.githubusercontent.com)... 185.199.108.133, 185.199.109.133, 185.199.110.133, ...\n",
            "Connecting to raw.githubusercontent.com (raw.githubusercontent.com)|185.199.108.133|:443... connected.\n",
            "HTTP request sent, awaiting response... 200 OK\n",
            "Length: 31838 (31K) [text/plain]\n",
            "Saving to: ‘NC_005816.gb.1’\n",
            "\n",
            "\rNC_005816.gb.1        0%[                    ]       0  --.-KB/s               \rNC_005816.gb.1      100%[===================>]  31.09K  --.-KB/s    in 0s      \n",
            "\n",
            "2023-02-01 19:06:24 (100 MB/s) - ‘NC_005816.gb.1’ saved [31838/31838]\n",
            "\n"
          ]
        }
      ]
    },
    {
      "cell_type": "markdown",
      "source": [
        "Этот файл содержит одну запись (т.е. только одну строку LOCUS) и начинается:\n",
        "\n",
        "LOCUS       NC_005816               9609 bp    \n",
        "DNA     circular BCT 21-JUL-2008\n",
        "\n",
        "DEFINITION  Yersinia pestis biovar Microtus str. 91001 plasmid pPCP1, complete\n",
        "            sequence.\n",
        "\n",
        "ACCESSION   NC_005816\n",
        "\n",
        "VERSION     NC_005816.1  GI:45478711\n",
        "\n",
        "PROJECT     GenomeProject:10638\n",
        "..."
      ],
      "metadata": {
        "id": "IiCJyBIcpXtG"
      }
    },
    {
      "cell_type": "markdown",
      "source": [
        "Опять же, мы будем использовать Bio.SeqIO для чтения этого файла, и код почти идентичен коду, использованному выше для файла FASTA (подробности см. в главе ‍ 5 ):"
      ],
      "metadata": {
        "id": "5yuNalZNp9Wg"
      }
    },
    {
      "cell_type": "code",
      "source": [
        "from Bio import SeqIO\n",
        "record = SeqIO.read(\"/content/NC_005816.gb\", \"genbank\")\n",
        "record"
      ],
      "metadata": {
        "colab": {
          "base_uri": "https://localhost:8080/"
        },
        "id": "S_Xfe562phzH",
        "outputId": "bedc8385-59dc-4c87-cf60-bffa370777c0"
      },
      "execution_count": 99,
      "outputs": [
        {
          "output_type": "execute_result",
          "data": {
            "text/plain": [
              "SeqRecord(seq=Seq('TGTAACGAACGGTGCAATAGTGATCCACACCCAACGCCTGAAATCAGATCCAGG...CTG'), id='NC_005816.1', name='NC_005816', description='Yersinia pestis biovar Microtus str. 91001 plasmid pPCP1, complete sequence', dbxrefs=['Project:58037'])"
            ]
          },
          "metadata": {},
          "execution_count": 99
        }
      ]
    },
    {
      "cell_type": "code",
      "source": [
        "record.seq"
      ],
      "metadata": {
        "colab": {
          "base_uri": "https://localhost:8080/"
        },
        "id": "Es1sUudnqWu1",
        "outputId": "90507351-37e2-487a-cdd5-23da5f3c79bb"
      },
      "execution_count": 100,
      "outputs": [
        {
          "output_type": "execute_result",
          "data": {
            "text/plain": [
              "Seq('TGTAACGAACGGTGCAATAGTGATCCACACCCAACGCCTGAAATCAGATCCAGG...CTG')"
            ]
          },
          "metadata": {},
          "execution_count": 100
        }
      ]
    },
    {
      "cell_type": "markdown",
      "source": [
        "name Приходит из линейки LOCUS, а включает id суффикс версии. description взято из строки DEFINITION:"
      ],
      "metadata": {
        "id": "pNv9rau0qYiw"
      }
    },
    {
      "cell_type": "code",
      "source": [
        "record.id"
      ],
      "metadata": {
        "colab": {
          "base_uri": "https://localhost:8080/",
          "height": 36
        },
        "id": "1w4DXKL7qgL2",
        "outputId": "233f0aa8-d4c8-4744-9fda-0eb967bdf440"
      },
      "execution_count": 101,
      "outputs": [
        {
          "output_type": "execute_result",
          "data": {
            "text/plain": [
              "'NC_005816.1'"
            ],
            "application/vnd.google.colaboratory.intrinsic+json": {
              "type": "string"
            }
          },
          "metadata": {},
          "execution_count": 101
        }
      ]
    },
    {
      "cell_type": "code",
      "source": [
        "record.name"
      ],
      "metadata": {
        "colab": {
          "base_uri": "https://localhost:8080/",
          "height": 36
        },
        "id": "m5YrdS7aqj3I",
        "outputId": "7a4f9c13-26bb-4866-8cd9-8ed08f82379a"
      },
      "execution_count": 102,
      "outputs": [
        {
          "output_type": "execute_result",
          "data": {
            "text/plain": [
              "'NC_005816'"
            ],
            "application/vnd.google.colaboratory.intrinsic+json": {
              "type": "string"
            }
          },
          "metadata": {},
          "execution_count": 102
        }
      ]
    },
    {
      "cell_type": "code",
      "source": [
        "record.description"
      ],
      "metadata": {
        "colab": {
          "base_uri": "https://localhost:8080/",
          "height": 36
        },
        "id": "7-nopo-PqnTF",
        "outputId": "8e046a3f-210a-44b7-94bf-364534cdee10"
      },
      "execution_count": 103,
      "outputs": [
        {
          "output_type": "execute_result",
          "data": {
            "text/plain": [
              "'Yersinia pestis biovar Microtus str. 91001 plasmid pPCP1, complete sequence'"
            ],
            "application/vnd.google.colaboratory.intrinsic+json": {
              "type": "string"
            }
          },
          "metadata": {},
          "execution_count": 103
        }
      ]
    },
    {
      "cell_type": "markdown",
      "source": [
        "В файлах GenBank нет побуквенных аннотаций:"
      ],
      "metadata": {
        "id": "FGMtf51Xq2ve"
      }
    },
    {
      "cell_type": "code",
      "source": [
        "record.letter_annotations"
      ],
      "metadata": {
        "colab": {
          "base_uri": "https://localhost:8080/"
        },
        "id": "kJMz3UfEq4FG",
        "outputId": "e9cd462a-9c89-49f4-b26e-ac52b786c991"
      },
      "execution_count": 104,
      "outputs": [
        {
          "output_type": "execute_result",
          "data": {
            "text/plain": [
              "{}"
            ]
          },
          "metadata": {},
          "execution_count": 104
        }
      ]
    },
    {
      "cell_type": "markdown",
      "source": [
        "Большая часть информации аннотаций записывается в annotations словарь, например:"
      ],
      "metadata": {
        "id": "atQSrvBVq-7_"
      }
    },
    {
      "cell_type": "code",
      "source": [
        "len(record.annotations)"
      ],
      "metadata": {
        "colab": {
          "base_uri": "https://localhost:8080/"
        },
        "id": "1N53auahrA3-",
        "outputId": "de4ec4f4-d80c-4b63-beb0-9588a3dfa0ac"
      },
      "execution_count": 105,
      "outputs": [
        {
          "output_type": "execute_result",
          "data": {
            "text/plain": [
              "13"
            ]
          },
          "metadata": {},
          "execution_count": 105
        }
      ]
    },
    {
      "cell_type": "code",
      "source": [
        "record.annotations[\"source\"]"
      ],
      "metadata": {
        "colab": {
          "base_uri": "https://localhost:8080/",
          "height": 36
        },
        "id": "qf0bLd2UrGBo",
        "outputId": "585a8a8a-e090-4930-869d-67f7f5a69886"
      },
      "execution_count": 106,
      "outputs": [
        {
          "output_type": "execute_result",
          "data": {
            "text/plain": [
              "'Yersinia pestis biovar Microtus str. 91001'"
            ],
            "application/vnd.google.colaboratory.intrinsic+json": {
              "type": "string"
            }
          },
          "metadata": {},
          "execution_count": 106
        }
      ]
    },
    {
      "cell_type": "markdown",
      "source": [
        "Список dbxrefs заполняется из любых строк PROJECT или DBLINK:"
      ],
      "metadata": {
        "id": "zmBhPyFjrOf9"
      }
    },
    {
      "cell_type": "code",
      "source": [
        "record.dbxrefs"
      ],
      "metadata": {
        "colab": {
          "base_uri": "https://localhost:8080/"
        },
        "id": "1Zl9mbKKrONP",
        "outputId": "3784560e-1ea1-458e-a88e-d707a4a69321"
      },
      "execution_count": 107,
      "outputs": [
        {
          "output_type": "execute_result",
          "data": {
            "text/plain": [
              "['Project:58037']"
            ]
          },
          "metadata": {},
          "execution_count": 107
        }
      ]
    },
    {
      "cell_type": "markdown",
      "source": [
        "Наконец, и, возможно, самое интересное, все записи в таблице признаков (например, гены или признаки CDS) записываются как SeqFeature объекты в features списке."
      ],
      "metadata": {
        "id": "RPceBjsDrWu2"
      }
    },
    {
      "cell_type": "code",
      "source": [
        "len(record.features)"
      ],
      "metadata": {
        "colab": {
          "base_uri": "https://localhost:8080/"
        },
        "id": "4UJUlq1gre_V",
        "outputId": "e61dfccb-8237-4d96-caf8-51695f3d8206"
      },
      "execution_count": 108,
      "outputs": [
        {
          "output_type": "execute_result",
          "data": {
            "text/plain": [
              "41"
            ]
          },
          "metadata": {},
          "execution_count": 108
        }
      ]
    },
    {
      "cell_type": "code",
      "source": [
        "record.features"
      ],
      "metadata": {
        "colab": {
          "base_uri": "https://localhost:8080/"
        },
        "id": "iqveyUABrjf3",
        "outputId": "11c6ff93-1f5a-4b94-afa8-90d6a2d3b991"
      },
      "execution_count": 109,
      "outputs": [
        {
          "output_type": "execute_result",
          "data": {
            "text/plain": [
              "[SeqFeature(SimpleLocation(ExactPosition(0), ExactPosition(9609), strand=1), type='source', qualifiers=...),\n",
              " SeqFeature(SimpleLocation(ExactPosition(0), ExactPosition(1954), strand=1), type='repeat_region'),\n",
              " SeqFeature(SimpleLocation(ExactPosition(86), ExactPosition(1109), strand=1), type='gene', qualifiers=...),\n",
              " SeqFeature(SimpleLocation(ExactPosition(86), ExactPosition(1109), strand=1), type='CDS', qualifiers=...),\n",
              " SeqFeature(SimpleLocation(ExactPosition(86), ExactPosition(959), strand=1), type='misc_feature', qualifiers=...),\n",
              " SeqFeature(SimpleLocation(BeforePosition(110), ExactPosition(209), strand=1), type='misc_feature', qualifiers=...),\n",
              " SeqFeature(SimpleLocation(ExactPosition(437), ExactPosition(812), strand=1), type='misc_feature', qualifiers=...),\n",
              " SeqFeature(SimpleLocation(ExactPosition(1105), ExactPosition(1888), strand=1), type='gene', qualifiers=...),\n",
              " SeqFeature(SimpleLocation(ExactPosition(1105), ExactPosition(1888), strand=1), type='CDS', qualifiers=...),\n",
              " SeqFeature(SimpleLocation(ExactPosition(1108), ExactPosition(1885), strand=1), type='misc_feature', qualifiers=...),\n",
              " SeqFeature(SimpleLocation(ExactPosition(1366), AfterPosition(1669), strand=1), type='misc_feature', qualifiers=...),\n",
              " SeqFeature(SimpleLocation(ExactPosition(1432), ExactPosition(1456), strand=1), type='misc_feature', qualifiers=...),\n",
              " SeqFeature(CompoundLocation([SimpleLocation(ExactPosition(1435), ExactPosition(1459), strand=1), SimpleLocation(ExactPosition(1618), ExactPosition(1621), strand=1)], 'order'), type='misc_feature', location_operator='order', qualifiers=...),\n",
              " SeqFeature(SimpleLocation(ExactPosition(1606), ExactPosition(1624), strand=1), type='misc_feature', qualifiers=...),\n",
              " SeqFeature(SimpleLocation(ExactPosition(2924), ExactPosition(3119), strand=1), type='gene', qualifiers=...),\n",
              " SeqFeature(SimpleLocation(ExactPosition(2924), ExactPosition(3119), strand=1), type='CDS', qualifiers=...),\n",
              " SeqFeature(SimpleLocation(ExactPosition(2924), ExactPosition(3107), strand=1), type='misc_feature', qualifiers=...),\n",
              " SeqFeature(SimpleLocation(ExactPosition(3485), ExactPosition(3857), strand=1), type='gene', qualifiers=...),\n",
              " SeqFeature(SimpleLocation(ExactPosition(3485), ExactPosition(3857), strand=1), type='CDS', qualifiers=...),\n",
              " SeqFeature(SimpleLocation(ExactPosition(3497), ExactPosition(3626), strand=1), type='misc_feature', qualifiers=...),\n",
              " SeqFeature(SimpleLocation(ExactPosition(4342), ExactPosition(4780), strand=1), type='gene', qualifiers=...),\n",
              " SeqFeature(SimpleLocation(ExactPosition(4342), ExactPosition(4780), strand=1), type='CDS', qualifiers=...),\n",
              " SeqFeature(SimpleLocation(ExactPosition(4814), ExactPosition(5888), strand=-1), type='gene', qualifiers=...),\n",
              " SeqFeature(SimpleLocation(ExactPosition(4814), ExactPosition(5888), strand=-1), type='CDS', qualifiers=...),\n",
              " SeqFeature(SimpleLocation(ExactPosition(5909), ExactPosition(5911), strand=1), type='variation', qualifiers=...),\n",
              " SeqFeature(SimpleLocation(ExactPosition(5933), ExactPosition(5933), strand=1), type='variation', qualifiers=...),\n",
              " SeqFeature(SimpleLocation(ExactPosition(5933), ExactPosition(5933), strand=1), type='variation', qualifiers=...),\n",
              " SeqFeature(SimpleLocation(ExactPosition(5947), ExactPosition(5948), strand=1), type='variation', qualifiers=...),\n",
              " SeqFeature(SimpleLocation(ExactPosition(6004), ExactPosition(6421), strand=1), type='gene', qualifiers=...),\n",
              " SeqFeature(SimpleLocation(ExactPosition(6004), ExactPosition(6421), strand=1), type='CDS', qualifiers=...),\n",
              " SeqFeature(SimpleLocation(ExactPosition(6524), ExactPosition(6525), strand=1), type='variation', qualifiers=...),\n",
              " SeqFeature(SimpleLocation(ExactPosition(6663), ExactPosition(7602), strand=1), type='gene', qualifiers=...),\n",
              " SeqFeature(SimpleLocation(ExactPosition(6663), ExactPosition(7602), strand=1), type='CDS', qualifiers=...),\n",
              " SeqFeature(SimpleLocation(ExactPosition(6663), ExactPosition(7599), strand=1), type='misc_feature', qualifiers=...),\n",
              " SeqFeature(SimpleLocation(ExactPosition(7788), ExactPosition(8088), strand=-1), type='gene', qualifiers=...),\n",
              " SeqFeature(SimpleLocation(ExactPosition(7788), ExactPosition(8088), strand=-1), type='CDS', qualifiers=...),\n",
              " SeqFeature(SimpleLocation(ExactPosition(7836), ExactPosition(7995), strand=-1), type='misc_feature', qualifiers=...),\n",
              " SeqFeature(SimpleLocation(ExactPosition(8087), ExactPosition(8360), strand=-1), type='gene', qualifiers=...),\n",
              " SeqFeature(SimpleLocation(ExactPosition(8087), ExactPosition(8360), strand=-1), type='CDS', qualifiers=...),\n",
              " SeqFeature(SimpleLocation(ExactPosition(8090), AfterPosition(8357), strand=-1), type='misc_feature', qualifiers=...),\n",
              " SeqFeature(SimpleLocation(ExactPosition(8529), ExactPosition(8529), strand=1), type='variation', qualifiers=...)]"
            ]
          },
          "metadata": {},
          "execution_count": 109
        }
      ]
    },
    {
      "cell_type": "code",
      "source": [
        "record.features[-1]"
      ],
      "metadata": {
        "colab": {
          "base_uri": "https://localhost:8080/"
        },
        "id": "iH6nIDwZr-uV",
        "outputId": "cfc440a9-1f07-4056-8dcd-2390a1003ee4"
      },
      "execution_count": 110,
      "outputs": [
        {
          "output_type": "execute_result",
          "data": {
            "text/plain": [
              "SeqFeature(SimpleLocation(ExactPosition(8529), ExactPosition(8529), strand=1), type='variation', qualifiers=...)"
            ]
          },
          "metadata": {},
          "execution_count": 110
        }
      ]
    },
    {
      "cell_type": "markdown",
      "source": [
        "Мы поговорим об SeqFeature объектах далее, в разделе ‍ 4.3 ."
      ],
      "metadata": {
        "id": "mM43_8I5sG3v"
      }
    },
    {
      "cell_type": "markdown",
      "source": [
        "##4.3 Особенности, расположение и позиционирование объектов"
      ],
      "metadata": {
        "id": "guunaP_NsJLP"
      }
    },
    {
      "cell_type": "markdown",
      "source": [
        "###4.3.1 Объекты SeqFeature\n",
        "Признаки последовательности являются неотъемлемой частью описания последовательности. Как только вы выйдете за пределы самой последовательности, вам понадобится какой-то способ организовать и легко получить более «абстрактную» информацию, известную о последовательности. Хотя, вероятно, невозможно разработать общий класс объектов последовательности, который будет охватывать все, SeqFeature класс Biopython пытается инкапсулировать как можно больше информации о последовательности. Дизайн в значительной степени основан на таблицах функций GenBank/EMBL, поэтому, если вы понимаете, как они выглядят, вам, вероятно, будет легче понять структуру классов Biopython."
      ],
      "metadata": {
        "id": "dMi7Gwi7sNYF"
      }
    },
    {
      "cell_type": "markdown",
      "source": [
        "Основная идея каждого SeqFeature объекта состоит в описании области родительской последовательности, обычно SeqRecord объекта. Эта область описывается объектом местоположения, обычно диапазоном между двумя позициями (см. раздел ‍ 4.3.2 ниже).\n",
        "\n",
        "Класс SeqFeature имеет ряд атрибутов, поэтому сначала мы перечислим их и их общие свойства, а затем в этой главе рассмотрим примеры, чтобы показать, как это применимо к реальному примеру. Атрибуты SeqFeature:\n",
        "* .type – Это текстовое описание типа признака (например, это будет что-то вроде «CDS» или «ген»).\n",
        "* .location\n",
        "– Расположение в SeqFeatureпоследовательности, с которой вы имеете дело, см. в разделе ‍ 4.3.2 ниже. Делегирует SeqFeatureбольшую часть своей функциональности объекту местоположения и включает ряд атрибутов быстрого доступа для свойств местоположения:\n",
        "  * .ref– сокращение для .location.ref – любая (другая) ссылочная последовательность, к которой относится местоположение. Обычно просто None.\n",
        "  * .ref_db\n",
        "– сокращение для – указывает базу данных, на которую ссылается .location.ref_db любой идентификатор . .ref Обычно просто None.\n",
        "  * .strand\n",
        "– сокращение для .location.strand – цепочка в последовательности, на которой расположен признак. Для двухцепочечной нуклеотидной последовательности это может быть либо 1 для верхней цепи, -1 для нижней цепи, 0, если цепь важна, но неизвестна, либо None , если это не имеет значения (для белков или одноцепочечных последовательностей).\n",
        "* .qualifiers– Это словарь Python с дополнительной информацией об этой функции. Ключ представляет собой какое-то краткое описание из одного слова того, о чем информация, содержащаяся в значении, а значение является фактической информацией. Например, общим ключом для квалификатора может быть «доказательство(evidence)», а значением может быть «вычислительный (неэкспериментальный) - computational (non-experimental)». Это просто способ сообщить человеку, который смотрит на функцию, что она не была подтверждена экспериментально (т.е. в мокрой лаборатории). Обратите внимание, что другое значение будет списком строк (даже если есть только одна строка). Это отражение таблиц функций в файлах GenBank/EMBL.\n",
        "* .sub_features\n",
        "– Раньше это использовалось для представления функций со сложным расположением, таких как «соединения» в файлах GenBank/EMBL. Это устарело с введением CompoundLocationобъекта, и теперь его следует игнорировать."
      ],
      "metadata": {
        "id": "rrtD35Ltslad"
      }
    },
    {
      "cell_type": "markdown",
      "source": [
        "###4.3.2 Позиции и местоположения\n",
        "Основная идея каждого SeqFeature объекта состоит в том, чтобы описать область в родительской последовательности, для которой мы используем объект местоположения, обычно описывающий диапазон между двумя позициями. Две попытки уточнить терминологию, которую мы используем:\n",
        "* position\n",
        "– Это относится к одной позиции в последовательности, которая может быть нечеткой или нет. Например, 5, 20 <100и >200 все позиции.\n",
        "* location– Местоположение – это область последовательности, ограниченная некоторыми позициями. Например, 5..20 (т. е. от 5 до 20) — это местоположение.\n",
        "\n",
        "Я упоминаю об этом только потому, что иногда путаюсь между ними."
      ],
      "metadata": {
        "id": "q0R2UuTsuymq"
      }
    },
    {
      "cell_type": "markdown",
      "source": [
        "####4.3.2.1 Объект SimpleLocation\n",
        "Если вы не работаете с эукариотическими генами, большинство SeqFeature локаций чрезвычайно просты — вам просто нужны координаты начала и конца и нить. По сути, это все, что SimpleLocation делает базовый объект.\n",
        "\n",
        "На практике, конечно, все может быть сложнее. Прежде всего, нам нужно обработать составные локации, состоящие из нескольких регионов. Во-вторых, сами позиции могут быть нечеткими (неточными)."
      ],
      "metadata": {
        "id": "4iJSbwzrvp-Y"
      }
    },
    {
      "cell_type": "markdown",
      "source": [
        "####4.3.2.2 Объект CompoundLocation\n",
        "Biopython 1.62 представил CompoundLocation как часть реструктуризации представления сложных локаций, состоящих из нескольких регионов. В основном используется для обработки местоположений «соединения» в файлах EMBL/GenBank."
      ],
      "metadata": {
        "id": "RCEwhpZ5v0Ak"
      }
    },
    {
      "cell_type": "markdown",
      "source": [
        "####4.3.2.3 Нечеткие позиции(Fuzzy Positions)\n",
        "До сих пор мы использовали только простые позиции. Одна из сложностей при работе с локациями признаков связана с самими позициями. В биологии часто бывает, что вещи не совсем точны (как бы мы, биологи из мокрых лабораторий, не пытались их утвердить!). Например, вы можете провести эксперимент с праймированием динуклеотидов и обнаружить, что начало транскрипта мРНК начинается в одном из двух сайтов. Это очень полезная информация, но сложность заключается в том, как представить ее в виде позиции. Чтобы помочь нам справиться с этим, у нас есть концепция нечетких позиций. В основном существует несколько типов нечетких позиций, поэтому у нас есть пять классов, которые имеют дело с ними:\n",
        "* ExactPosition– Как следует из названия, этот класс представляет положение, указанное как точное в последовательности. Это представлено просто числом, и вы можете получить позицию, взглянув на position атрибут объекта.\n",
        "* BeforePosition– Этот класс представляет собой нечеткое положение, которое происходит перед некоторым указанным сайтом. В нотации GenBank/EMBL это представляется чем-то вроде `<13', означающим, что реальная позиция находится где-то меньше 13. Чтобы получить указанную верхнюю границу, посмотрите на position атрибут объекта.\n",
        "* AfterPosition– В отличие от BeforePosition, этот класс представляет позицию, расположенную после некоторого указанного сайта. Это представлено в GenBank как `>13', и, как и BeforePosition, вы получаете номер границы, просматривая position атрибут объекта.\n",
        "* WithinPosition– Этот класс, иногда используемый для местоположений GenBank/EMBL, моделирует положение, которое находится где-то между двумя указанными нуклеотидами. В нотации GenBank/EMBL это будет представлено как «(1.5)», что означает, что позиция находится где-то в диапазоне от 1 до 5.\n",
        "* OneOfPosition\n",
        "– Иногда используемый для местоположений GenBank/EMBL, этот класс имеет дело с позицией, в которой существует несколько возможных значений, например, вы можете использовать это, если стартовый кодон неясен и есть два кандидата на начало гена. В качестве альтернативы, это можно было бы рассматривать явно как два связанных признака гена.\n",
        "* UnknownPosition– Этот класс имеет дело с позицией неизвестного местоположения. Это не используется в GenBank/EMBL, но соответствует '?' координата объекта, используемая в UniProt.\n",
        "\n",
        "Вот пример, где мы создаем местоположение с нечеткими конечными точками:"
      ],
      "metadata": {
        "id": "QDAI1E9UwF4d"
      }
    },
    {
      "cell_type": "code",
      "source": [
        "from Bio import SeqFeature\n",
        "start_pos = SeqFeature.AfterPosition(5)\n",
        "end_pos = SeqFeature.BetweenPosition(9, left=8, right=9)\n",
        "my_location = SeqFeature.SimpleLocation(start_pos, end_pos)"
      ],
      "metadata": {
        "id": "FueJC91Wut8o"
      },
      "execution_count": 111,
      "outputs": []
    },
    {
      "cell_type": "markdown",
      "source": [
        "Обратите внимание, что детали некоторых нечетких местоположений изменились в Biopython 1.59, в частности, для BetweenPosition и WithinPosition, теперь вы должны явно указать, какая целочисленная позиция должна использоваться для нарезки и т. д. Для начальной позиции это обычно нижняя (левая) позиция. значение, в то время как для конечного положения это обычно будет более высокое (правое) значение.\n",
        "\n",
        "Если вы распечатаете SimpleLocation объект, вы можете получить хорошее представление информации:"
      ],
      "metadata": {
        "id": "4G7vYmMf6YEk"
      }
    },
    {
      "cell_type": "code",
      "source": [
        "print(my_location)"
      ],
      "metadata": {
        "colab": {
          "base_uri": "https://localhost:8080/"
        },
        "id": "DIxmPNHG6fbC",
        "outputId": "35542027-a669-44f8-a296-f56a64a1412e"
      },
      "execution_count": 112,
      "outputs": [
        {
          "output_type": "stream",
          "name": "stdout",
          "text": [
            "[>5:(8^9)]\n"
          ]
        }
      ]
    },
    {
      "cell_type": "markdown",
      "source": [
        "Мы можем получить доступ к нечетким начальным и конечным позициям, используя начальные и конечные атрибуты местоположения:"
      ],
      "metadata": {
        "id": "Skr2hRBc6v45"
      }
    },
    {
      "cell_type": "code",
      "source": [
        "my_location.start"
      ],
      "metadata": {
        "colab": {
          "base_uri": "https://localhost:8080/"
        },
        "id": "eu3UAvOC6yQZ",
        "outputId": "e232a9a4-3dbb-46c1-f98f-07b7ddde02f1"
      },
      "execution_count": 113,
      "outputs": [
        {
          "output_type": "execute_result",
          "data": {
            "text/plain": [
              "AfterPosition(5)"
            ]
          },
          "metadata": {},
          "execution_count": 113
        }
      ]
    },
    {
      "cell_type": "code",
      "source": [
        "print(my_location.start)"
      ],
      "metadata": {
        "colab": {
          "base_uri": "https://localhost:8080/"
        },
        "id": "8RA9BEq562i4",
        "outputId": "8acac204-6875-4795-f9e8-e12496ae2653"
      },
      "execution_count": 114,
      "outputs": [
        {
          "output_type": "stream",
          "name": "stdout",
          "text": [
            ">5\n"
          ]
        }
      ]
    },
    {
      "cell_type": "code",
      "source": [
        "my_location.end"
      ],
      "metadata": {
        "colab": {
          "base_uri": "https://localhost:8080/"
        },
        "id": "z2oZTOpe6-nx",
        "outputId": "55d8b683-641a-4310-d58d-f905e75b4a33"
      },
      "execution_count": 115,
      "outputs": [
        {
          "output_type": "execute_result",
          "data": {
            "text/plain": [
              "BetweenPosition(9, left=8, right=9)"
            ]
          },
          "metadata": {},
          "execution_count": 115
        }
      ]
    },
    {
      "cell_type": "code",
      "source": [
        "print(my_location.end)"
      ],
      "metadata": {
        "colab": {
          "base_uri": "https://localhost:8080/"
        },
        "id": "dNvTUqS57A9U",
        "outputId": "f2dbad0d-d03e-4768-9da2-aeb9711ddffd"
      },
      "execution_count": 116,
      "outputs": [
        {
          "output_type": "stream",
          "name": "stdout",
          "text": [
            "(8^9)\n"
          ]
        }
      ]
    },
    {
      "cell_type": "markdown",
      "source": [
        "Если вы не хотите иметь дело с нечеткими позициями и просто хотите числа, они на самом деле являются подклассами целых чисел, поэтому должны работать как целые числа:"
      ],
      "metadata": {
        "id": "I8GliTWf7FzB"
      }
    },
    {
      "cell_type": "code",
      "source": [
        "int(my_location.start)"
      ],
      "metadata": {
        "colab": {
          "base_uri": "https://localhost:8080/"
        },
        "id": "wxxzYKJO7MFA",
        "outputId": "360ed5f3-b898-4a4e-da57-b214eab5e36f"
      },
      "execution_count": 117,
      "outputs": [
        {
          "output_type": "execute_result",
          "data": {
            "text/plain": [
              "5"
            ]
          },
          "metadata": {},
          "execution_count": 117
        }
      ]
    },
    {
      "cell_type": "code",
      "source": [
        "int(my_location.end)"
      ],
      "metadata": {
        "colab": {
          "base_uri": "https://localhost:8080/"
        },
        "id": "02vS1eyj7O0C",
        "outputId": "d3e8f43b-1049-41e0-f5a7-b04e9a03e500"
      },
      "execution_count": 118,
      "outputs": [
        {
          "output_type": "execute_result",
          "data": {
            "text/plain": [
              "9"
            ]
          },
          "metadata": {},
          "execution_count": 118
        }
      ]
    },
    {
      "cell_type": "markdown",
      "source": [
        "Точно так же, чтобы упростить создание позиции, не беспокоясь о нечетких позициях, вы можете просто передать числа FeaturePosition конструкторам, и вы получите обратно ExactPosition объекты:"
      ],
      "metadata": {
        "id": "1mgAXJZ-7VtB"
      }
    },
    {
      "cell_type": "code",
      "source": [
        "exact_location = SeqFeature.SimpleLocation(5, 9)\n",
        "print(exact_location)"
      ],
      "metadata": {
        "colab": {
          "base_uri": "https://localhost:8080/"
        },
        "id": "-WAPuOaI7d5c",
        "outputId": "ca6c6660-a55e-4ce2-d9e3-58e8b8c2d48b"
      },
      "execution_count": 119,
      "outputs": [
        {
          "output_type": "stream",
          "name": "stdout",
          "text": [
            "[5:9]\n"
          ]
        }
      ]
    },
    {
      "cell_type": "code",
      "source": [
        "exact_location.start"
      ],
      "metadata": {
        "colab": {
          "base_uri": "https://localhost:8080/"
        },
        "id": "KLewypID7jUp",
        "outputId": "ba226394-5fe7-49b7-813e-dafdcb275f1e"
      },
      "execution_count": 120,
      "outputs": [
        {
          "output_type": "execute_result",
          "data": {
            "text/plain": [
              "ExactPosition(5)"
            ]
          },
          "metadata": {},
          "execution_count": 120
        }
      ]
    },
    {
      "cell_type": "code",
      "source": [
        "int(exact_location.start)"
      ],
      "metadata": {
        "colab": {
          "base_uri": "https://localhost:8080/"
        },
        "id": "de145IGs7nAY",
        "outputId": "e04554f5-4528-492e-f5b9-78779ff45891"
      },
      "execution_count": 121,
      "outputs": [
        {
          "output_type": "execute_result",
          "data": {
            "text/plain": [
              "5"
            ]
          },
          "metadata": {},
          "execution_count": 121
        }
      ]
    },
    {
      "cell_type": "markdown",
      "source": [
        "Это большая часть мельчайших деталей работы с нечеткими позициями в Biopython. Он был разработан таким образом, что работать с нечеткостью не намного сложнее, чем с точными позициями, и, надеюсь, вы поймете, что это правда!"
      ],
      "metadata": {
        "id": "HBR3Tjxo7qey"
      }
    },
    {
      "cell_type": "markdown",
      "source": [
        "####4.3.2.4 Тестирование местоположения\n",
        "Вы можете использовать ключевое слово Python inс SeqFeatureобъектом или местоположением, чтобы увидеть, находится ли основание/остаток для родительской координаты в пределах объекта/местоположения или нет.\n",
        "\n",
        "Например, предположим, что у вас есть интересующий SNP, и вы хотите знать, в каких функциях находится этот SNP, и давайте предположим, что этот SNP имеет индекс 4350 (подсчет Python!). Вот простое решение грубой силы, в котором мы просто проверяем все функции одну за другой в цикле:"
      ],
      "metadata": {
        "id": "zVFKHiCO7zlB"
      }
    },
    {
      "cell_type": "code",
      "source": [
        "from Bio import SeqIO\n",
        "my_snp = 4350\n",
        "record = SeqIO.read(\"NC_005816.gb\", \"genbank\")\n",
        "for feature in record.features:\n",
        "  if my_snp in feature:\n",
        "    print(\"%s %s\" % (feature.type, feature.qualifiers.get(\"db_xref\")))"
      ],
      "metadata": {
        "colab": {
          "base_uri": "https://localhost:8080/"
        },
        "id": "muDJGm677-UI",
        "outputId": "4d8f1ac7-ff0c-42b5-ff0c-6a6286ae9171"
      },
      "execution_count": 122,
      "outputs": [
        {
          "output_type": "stream",
          "name": "stdout",
          "text": [
            "source ['taxon:229193']\n",
            "gene ['GeneID:2767712']\n",
            "CDS ['GI:45478716', 'GeneID:2767712']\n"
          ]
        }
      ]
    },
    {
      "cell_type": "markdown",
      "source": [
        "Обратите внимание, что функции генов и CDS из файлов GenBank или EMBL, определенные с помощью соединений, представляют собой объединение экзонов — они не охватывают интроны."
      ],
      "metadata": {
        "id": "Zd47lptU8ORB"
      }
    },
    {
      "cell_type": "markdown",
      "source": [
        "###4.3.3 Последовательность, описываемая элементом или местоположением\n",
        "Объект SeqFeatureor location не содержит напрямую последовательность, вместо этого местоположение (см. Раздел ‍ 4.3.2 ) описывает, как получить это из родительской последовательности. Например, рассмотрим (короткую) последовательность гена с расположением 5:18 на обратной цепи, которая в нотации GenBank/EMBL с использованием подсчета на основе 1 будет комплементом(6..18) , например:"
      ],
      "metadata": {
        "id": "CVODCUS6Jk3S"
      }
    },
    {
      "cell_type": "code",
      "source": [
        "from Bio.Seq import Seq\n",
        "from Bio.SeqFeature import SeqFeature, SimpleLocation\n",
        "seq = Seq(\"ACCGAGACGGCAAAGGCTAGCATAGGTATGAGACTTCCTTCCTGCCAGTGCTGAGGAACTGGGAGCCTAC\")\n",
        "feature = SeqFeature(SimpleLocation(5, 18, strand=-1), type=\"gene\")"
      ],
      "metadata": {
        "id": "t3uCmQRvJ2H8"
      },
      "execution_count": 123,
      "outputs": []
    },
    {
      "cell_type": "markdown",
      "source": [
        "Вы можете взять исходную последовательность, нарезать ее, чтобы извлечь 5:18, а затем взять обратное дополнение. Начало и конец местоположения функции являются целочисленными, поэтому это работает:"
      ],
      "metadata": {
        "id": "kPNbKpfBKKug"
      }
    },
    {
      "cell_type": "code",
      "source": [
        "feature_seq = seq[feature.location.start : feature.location.end].reverse_complement()\n",
        "print(feature_seq)"
      ],
      "metadata": {
        "colab": {
          "base_uri": "https://localhost:8080/"
        },
        "id": "33Vm-CbAKJcq",
        "outputId": "c3a61a60-825b-4ffe-ab96-6ee3cfe9a22a"
      },
      "execution_count": 124,
      "outputs": [
        {
          "output_type": "stream",
          "name": "stdout",
          "text": [
            "AGCCTTTGCCGTC\n"
          ]
        }
      ]
    },
    {
      "cell_type": "markdown",
      "source": [
        "Это простой пример, так что это не так уж плохо — однако, когда вам приходится иметь дело с составными функциями (объединениями), это довольно запутанно. Вместо этого у SeqFeatureобъекта есть extract метод, который позаботится обо всем этом (а поскольку Biopython 1.78 может обрабатывать транс-сплайсинг, предоставляя словарь ссылочных последовательностей):"
      ],
      "metadata": {
        "id": "dmB6eYLkK7F6"
      }
    },
    {
      "cell_type": "code",
      "source": [
        "feature_seq = feature.extract(seq)\n",
        "print(feature_seq)"
      ],
      "metadata": {
        "colab": {
          "base_uri": "https://localhost:8080/"
        },
        "id": "xoDNjjr6K-KP",
        "outputId": "aadfa74a-9291-4013-bd72-1adf2d1609e7"
      },
      "execution_count": 125,
      "outputs": [
        {
          "output_type": "stream",
          "name": "stdout",
          "text": [
            "AGCCTTTGCCGTC\n"
          ]
        }
      ]
    },
    {
      "cell_type": "markdown",
      "source": [
        "Длина SeqFeature местоположения или совпадает с длиной области последовательности, которую оно описывает."
      ],
      "metadata": {
        "id": "idZS-Nr6LOBi"
      }
    },
    {
      "cell_type": "code",
      "source": [
        "print(len(feature_seq))"
      ],
      "metadata": {
        "colab": {
          "base_uri": "https://localhost:8080/"
        },
        "id": "yGHtLTD7LUxi",
        "outputId": "1bd6579e-1065-4feb-ebf1-8417a03c5fda"
      },
      "execution_count": 126,
      "outputs": [
        {
          "output_type": "stream",
          "name": "stdout",
          "text": [
            "13\n"
          ]
        }
      ]
    },
    {
      "cell_type": "code",
      "source": [
        "print(len(feature))"
      ],
      "metadata": {
        "colab": {
          "base_uri": "https://localhost:8080/"
        },
        "id": "yA4rDY9CLWTx",
        "outputId": "f1450421-ecf4-4865-bafa-ae336e521e51"
      },
      "execution_count": 127,
      "outputs": [
        {
          "output_type": "stream",
          "name": "stdout",
          "text": [
            "13\n"
          ]
        }
      ]
    },
    {
      "cell_type": "code",
      "source": [
        "print(len(feature.location))"
      ],
      "metadata": {
        "colab": {
          "base_uri": "https://localhost:8080/"
        },
        "id": "gIW_yMLQLb0g",
        "outputId": "a3af6ce7-c133-4c94-e17e-015a6af8691c"
      },
      "execution_count": 128,
      "outputs": [
        {
          "output_type": "stream",
          "name": "stdout",
          "text": [
            "13\n"
          ]
        }
      ]
    },
    {
      "cell_type": "markdown",
      "source": [
        "Для SimpleLocation объектов длина — это просто разница между начальной и конечной позициями. Однако для a CompoundLocation длина представляет собой сумму составляющих областей."
      ],
      "metadata": {
        "id": "VoU0PuTVL4dx"
      }
    },
    {
      "cell_type": "markdown",
      "source": [
        "##4.4 Сравнение\n",
        "Объекты SeqRecord могут быть очень сложными, но вот простой пример:"
      ],
      "metadata": {
        "id": "Ge6FmhG4Mk-I"
      }
    },
    {
      "cell_type": "code",
      "source": [
        "from Bio.Seq import Seq\n",
        "from Bio.SeqRecord import SeqRecord\n",
        "record1 = SeqRecord(Seq(\"ACGT\"), id=\"test_01\")\n",
        "record2 = SeqRecord(Seq(\"ACGT\"), id=\"test_02\")"
      ],
      "metadata": {
        "id": "ZolPzRyVMsOb"
      },
      "execution_count": 129,
      "outputs": []
    },
    {
      "cell_type": "markdown",
      "source": [
        "Что происходит, когда вы пытаетесь сравнить эти «одинаковые» записи?"
      ],
      "metadata": {
        "id": "fFxRUDwTM7yy"
      }
    },
    {
      "cell_type": "code",
      "source": [
        "# record1 == record2\n",
        "# Сравнение SeqRecord намеренно не реализовано. Явно сравните интересующие атрибуты."
      ],
      "metadata": {
        "id": "TOmzGCH4M67L"
      },
      "execution_count": 130,
      "outputs": []
    },
    {
      "cell_type": "markdown",
      "source": [
        "Вместо этого вы должны проверить интересующие вас атрибуты, например идентификатор и последовательность:"
      ],
      "metadata": {
        "id": "v7Ari7QCN2y4"
      }
    },
    {
      "cell_type": "code",
      "source": [
        "record1.id == record2.id"
      ],
      "metadata": {
        "colab": {
          "base_uri": "https://localhost:8080/"
        },
        "id": "8i-Fwh-AN7Zj",
        "outputId": "e9fe7052-a5f9-4267-d29c-ea64b829fc99"
      },
      "execution_count": 131,
      "outputs": [
        {
          "output_type": "execute_result",
          "data": {
            "text/plain": [
              "False"
            ]
          },
          "metadata": {},
          "execution_count": 131
        }
      ]
    },
    {
      "cell_type": "code",
      "source": [
        "record1.seq == record2.seq"
      ],
      "metadata": {
        "colab": {
          "base_uri": "https://localhost:8080/"
        },
        "id": "plJfrRozN9hh",
        "outputId": "51157905-9ad5-4be5-87b7-8180781c994e"
      },
      "execution_count": 132,
      "outputs": [
        {
          "output_type": "execute_result",
          "data": {
            "text/plain": [
              "True"
            ]
          },
          "metadata": {},
          "execution_count": 132
        }
      ]
    },
    {
      "cell_type": "markdown",
      "source": [
        "Помните, что сравнение сложных объектов быстро усложняется (см. также Раздел ‍ 3.10 )."
      ],
      "metadata": {
        "id": "sFbZmMJ8TnkO"
      }
    },
    {
      "cell_type": "markdown",
      "source": [
        "##4.5 Ссылки\n",
        "Еще одна распространенная аннотация, относящаяся к последовательности, — это ссылка на журнал или другую опубликованную работу, посвященную этой последовательности. У нас есть довольно простой способ представления ссылки в Biopython — у нас есть Bio.SeqFeature.Reference класс, который хранит соответствующую информацию о ссылке в виде атрибутов объекта.\n",
        "\n",
        "Атрибуты включают в себя то, что вы ожидаете увидеть в справочнике, например journal, titleи authors. Кроме того, он также может содержать medline_idи pubmed_idи commentо ссылке. Все они доступны просто как атрибуты объекта.\n",
        "\n",
        "Ссылка также имеет location  объект, так что он может указать конкретное место в последовательности, на которую ссылается ссылка. Например, у вас может быть журнал, который имеет дело с определенным геном, расположенным на BAC, и вы хотите указать, что он относится только к этой позиции точно. Это location потенциально нечеткое местоположение, как описано в разделе ‍ 4.3.2 .\n",
        "\n",
        "Любые ссылочные объекты хранятся в виде списка в словаре SeqRecord объектов annotations под ключом «references». Вот и все. Ссылки предназначены для того, чтобы с ними было легко иметь дело, и, надеюсь, они достаточно общие, чтобы охватить множество случаев использования."
      ],
      "metadata": {
        "id": "hJeOB2FzT7FO"
      }
    },
    {
      "cell_type": "markdown",
      "source": [
        "##4.6 Метод формата (The format method)\n",
        "Метод format() класса SeqRecord возвращает строку, содержащую вашу запись, отформатированную с использованием одного из поддерживаемых форматов выходного файла Bio.SeqIO, например FASTA:"
      ],
      "metadata": {
        "id": "RevN43tPWidu"
      }
    },
    {
      "cell_type": "code",
      "source": [
        "from Bio.Seq import Seq\n",
        "from Bio.SeqRecord import SeqRecord\n",
        "record = SeqRecord(\n",
        "    Seq(\n",
        "        \"MMYQQGCFAGGTVLRLAKDLAENNRGARVLVVCSEITAVTFRGPSETHLDSMVGQALFGD\"\n",
        "        \"GAGAVIVGSDPDLSVERPLYELVWTGATLLPDSEGAIDGHLREVGLTFHLLKDVPGLISK\"\n",
        "        \"NIEKSLKEAFTPLGISDWNSTFWIAHPGGPAILDQVEAKLGLKEEKMRATREVLSEYGNM\"\n",
        "        \"SSAC\"\n",
        "        ),\n",
        "        id=\"gi|14150838|gb|AAK54648.1|AF376133_1\",\n",
        "        description=\"chalcone synthase [Cucumis sativus]\",\n",
        "      )\n",
        "print(record.format(\"fasta\"))"
      ],
      "metadata": {
        "colab": {
          "base_uri": "https://localhost:8080/"
        },
        "id": "FIbhG5x6WsmJ",
        "outputId": "9e19e945-8443-4dcd-a208-05fec7d572a3"
      },
      "execution_count": 133,
      "outputs": [
        {
          "output_type": "stream",
          "name": "stdout",
          "text": [
            ">gi|14150838|gb|AAK54648.1|AF376133_1 chalcone synthase [Cucumis sativus]\n",
            "MMYQQGCFAGGTVLRLAKDLAENNRGARVLVVCSEITAVTFRGPSETHLDSMVGQALFGD\n",
            "GAGAVIVGSDPDLSVERPLYELVWTGATLLPDSEGAIDGHLREVGLTFHLLKDVPGLISK\n",
            "NIEKSLKEAFTPLGISDWNSTFWIAHPGGPAILDQVEAKLGLKEEKMRATREVLSEYGNM\n",
            "SSAC\n",
            "\n"
          ]
        }
      ]
    },
    {
      "cell_type": "markdown",
      "source": [
        "Этот format метод принимает один обязательный аргумент, строку в нижнем регистре, которая поддерживается Bio.SeqIO в качестве выходного формата (см. главу ‍ 5 ). Однако для некоторых форматов файлов Bio.SeqIO может потребоваться более одной записи (как правило, в случае нескольких форматов выравнивания последовательностей), и поэтому этот format()метод не работает. См. также раздел ‍ 5.5.4 ."
      ],
      "metadata": {
        "id": "XDIQSKiwXY6D"
      }
    },
    {
      "cell_type": "markdown",
      "source": [
        "##4.7 Нарезка SeqRecord\n",
        "Вы можете нарезать SeqRecord, чтобы получить новое SeqRecord покрытие только части последовательности. Здесь важно то, что любые побуквенные аннотации также нарезаются, а любые функции, которые полностью попадают в новую последовательность, сохраняются (с корректировкой их местоположения).\n",
        "\n",
        "Например, возьмем тот же файл GenBank, который использовался ранее:"
      ],
      "metadata": {
        "id": "O72H7R6vXj4l"
      }
    },
    {
      "cell_type": "code",
      "source": [
        "from Bio import SeqIO\n",
        "record = SeqIO.read(\"/content/NC_005816.gb\", \"genbank\")\n",
        "record"
      ],
      "metadata": {
        "colab": {
          "base_uri": "https://localhost:8080/"
        },
        "id": "ykmrXhV1X6nl",
        "outputId": "e2c23d1c-ec8d-425a-8360-0a94d5f92240"
      },
      "execution_count": 135,
      "outputs": [
        {
          "output_type": "execute_result",
          "data": {
            "text/plain": [
              "SeqRecord(seq=Seq('TGTAACGAACGGTGCAATAGTGATCCACACCCAACGCCTGAAATCAGATCCAGG...CTG'), id='NC_005816.1', name='NC_005816', description='Yersinia pestis biovar Microtus str. 91001 plasmid pPCP1, complete sequence', dbxrefs=['Project:58037'])"
            ]
          },
          "metadata": {},
          "execution_count": 135
        }
      ]
    },
    {
      "cell_type": "code",
      "source": [
        "len(record)"
      ],
      "metadata": {
        "colab": {
          "base_uri": "https://localhost:8080/"
        },
        "id": "poQY8l5pYE2e",
        "outputId": "7b8c12b4-6607-470f-acd5-885bee1a6431"
      },
      "execution_count": 136,
      "outputs": [
        {
          "output_type": "execute_result",
          "data": {
            "text/plain": [
              "9609"
            ]
          },
          "metadata": {},
          "execution_count": 136
        }
      ]
    },
    {
      "cell_type": "code",
      "source": [
        "len(record.features)"
      ],
      "metadata": {
        "colab": {
          "base_uri": "https://localhost:8080/"
        },
        "id": "CyzrMn1iYH0R",
        "outputId": "4dd74fa6-3e0f-4866-a8c9-0e0f8f957255"
      },
      "execution_count": 137,
      "outputs": [
        {
          "output_type": "execute_result",
          "data": {
            "text/plain": [
              "41"
            ]
          },
          "metadata": {},
          "execution_count": 137
        }
      ]
    },
    {
      "cell_type": "markdown",
      "source": [
        "В этом примере мы сосредоточимся на pimгене YP_pPCP05. Если вы посмотрите непосредственно на файл GenBank, вы обнаружите, что этот ген/CDS имеет строку местоположения 4343..4780 или в Python подсчет 4342:4780 . Глядя на файл, вы можете понять, что это двенадцатая и тринадцатая записи в файле, поэтому в Python с отсчетом от нуля это записи 11 и 12 в списке функций :"
      ],
      "metadata": {
        "id": "wI8H5pjYX6Vv"
      }
    },
    {
      "cell_type": "code",
      "source": [
        "print(record.features[20])"
      ],
      "metadata": {
        "colab": {
          "base_uri": "https://localhost:8080/"
        },
        "id": "0dyT8mEWYq-e",
        "outputId": "15fa3a80-a1a4-4773-9465-997af2384fab"
      },
      "execution_count": 138,
      "outputs": [
        {
          "output_type": "stream",
          "name": "stdout",
          "text": [
            "type: gene\n",
            "location: [4342:4780](+)\n",
            "qualifiers:\n",
            "    Key: db_xref, Value: ['GeneID:2767712']\n",
            "    Key: gene, Value: ['pim']\n",
            "    Key: locus_tag, Value: ['YP_pPCP05']\n",
            "\n"
          ]
        }
      ]
    },
    {
      "cell_type": "code",
      "source": [
        "print(record.features[21])"
      ],
      "metadata": {
        "colab": {
          "base_uri": "https://localhost:8080/"
        },
        "id": "OzPVdO74Y2iO",
        "outputId": "d96ce60f-4081-40ce-d1db-0ee59ad535c7"
      },
      "execution_count": 139,
      "outputs": [
        {
          "output_type": "stream",
          "name": "stdout",
          "text": [
            "type: CDS\n",
            "location: [4342:4780](+)\n",
            "qualifiers:\n",
            "    Key: codon_start, Value: ['1']\n",
            "    Key: db_xref, Value: ['GI:45478716', 'GeneID:2767712']\n",
            "    Key: gene, Value: ['pim']\n",
            "    Key: locus_tag, Value: ['YP_pPCP05']\n",
            "    Key: note, Value: ['similar to many previously sequenced pesticin immunity protein entries of Yersinia pestis plasmid pPCP, e.g. gi| 16082683|,ref|NP_395230.1| (NC_003132) , gi|1200166|emb|CAA90861.1| (Z54145 ) , gi|1488655| emb|CAA63439.1| (X92856) , gi|2996219|gb|AAC62543.1| (AF053945) , and gi|5763814|emb|CAB531 67.1| (AL109969)']\n",
            "    Key: product, Value: ['pesticin immunity protein']\n",
            "    Key: protein_id, Value: ['NP_995571.1']\n",
            "    Key: transl_table, Value: ['11']\n",
            "    Key: translation, Value: ['MGGGMISKLFCLALIFLSSSGLAEKNTYTAKDILQNLELNTFGNSLSHGIYGKQTTFKQTEFTNIKSNTKKHIALINKDNSWMISLKILGIKRDEYTVCFEDFSLIRPPTYVAIHPLLIKKVKSGNFIVVKEIKKSIPGCTVYYH']\n",
            "\n"
          ]
        }
      ]
    },
    {
      "cell_type": "markdown",
      "source": [
        "Давайте разрежем эту родительскую запись с 4300 до 4800 (достаточно, чтобы включить pim ген/CDS) и посмотрим, сколько признаков мы получим:"
      ],
      "metadata": {
        "id": "7sm62qZDZLAu"
      }
    },
    {
      "cell_type": "code",
      "source": [
        "sub_record = record[4300:4800]\n",
        "sub_record"
      ],
      "metadata": {
        "colab": {
          "base_uri": "https://localhost:8080/"
        },
        "id": "UKQrDQ7eZSa9",
        "outputId": "ec429fff-0d83-41f7-ee8a-cadd6592afe6"
      },
      "execution_count": 140,
      "outputs": [
        {
          "output_type": "execute_result",
          "data": {
            "text/plain": [
              "SeqRecord(seq=Seq('ATAAATAGATTATTCCAAATAATTTATTTATGTAAGAACAGGATGGGAGGGGGA...TTA'), id='NC_005816.1', name='NC_005816', description='Yersinia pestis biovar Microtus str. 91001 plasmid pPCP1, complete sequence', dbxrefs=[])"
            ]
          },
          "metadata": {},
          "execution_count": 140
        }
      ]
    },
    {
      "cell_type": "code",
      "source": [
        "len(sub_record)"
      ],
      "metadata": {
        "colab": {
          "base_uri": "https://localhost:8080/"
        },
        "id": "gQ9hTqzaZZHx",
        "outputId": "f136bbeb-5b12-4db8-e7e7-8d236fbb489b"
      },
      "execution_count": 141,
      "outputs": [
        {
          "output_type": "execute_result",
          "data": {
            "text/plain": [
              "500"
            ]
          },
          "metadata": {},
          "execution_count": 141
        }
      ]
    },
    {
      "cell_type": "code",
      "source": [
        "len(sub_record.features)"
      ],
      "metadata": {
        "colab": {
          "base_uri": "https://localhost:8080/"
        },
        "id": "gRNcvm94Zc_u",
        "outputId": "bf5be642-cdb4-4793-91c2-2f7907a5467b"
      },
      "execution_count": 142,
      "outputs": [
        {
          "output_type": "execute_result",
          "data": {
            "text/plain": [
              "2"
            ]
          },
          "metadata": {},
          "execution_count": 142
        }
      ]
    },
    {
      "cell_type": "markdown",
      "source": [
        "В нашей подзаписи есть только две функции: ген и записи CDS для YP_pPCP05:"
      ],
      "metadata": {
        "id": "3-OYYdbRZhEs"
      }
    },
    {
      "cell_type": "code",
      "source": [
        "print(sub_record.features[0])"
      ],
      "metadata": {
        "colab": {
          "base_uri": "https://localhost:8080/"
        },
        "id": "ZWiJzQ4lZgqF",
        "outputId": "fb142336-d051-498b-ebe2-d807e1196e40"
      },
      "execution_count": 143,
      "outputs": [
        {
          "output_type": "stream",
          "name": "stdout",
          "text": [
            "type: gene\n",
            "location: [42:480](+)\n",
            "qualifiers:\n",
            "    Key: db_xref, Value: ['GeneID:2767712']\n",
            "    Key: gene, Value: ['pim']\n",
            "    Key: locus_tag, Value: ['YP_pPCP05']\n",
            "\n"
          ]
        }
      ]
    },
    {
      "cell_type": "code",
      "source": [
        "print(sub_record.features[1])"
      ],
      "metadata": {
        "colab": {
          "base_uri": "https://localhost:8080/"
        },
        "id": "DV4EoJ-TZ11E",
        "outputId": "28ee9155-a0a5-4d22-e412-c46b957b3b42"
      },
      "execution_count": 144,
      "outputs": [
        {
          "output_type": "stream",
          "name": "stdout",
          "text": [
            "type: CDS\n",
            "location: [42:480](+)\n",
            "qualifiers:\n",
            "    Key: codon_start, Value: ['1']\n",
            "    Key: db_xref, Value: ['GI:45478716', 'GeneID:2767712']\n",
            "    Key: gene, Value: ['pim']\n",
            "    Key: locus_tag, Value: ['YP_pPCP05']\n",
            "    Key: note, Value: ['similar to many previously sequenced pesticin immunity protein entries of Yersinia pestis plasmid pPCP, e.g. gi| 16082683|,ref|NP_395230.1| (NC_003132) , gi|1200166|emb|CAA90861.1| (Z54145 ) , gi|1488655| emb|CAA63439.1| (X92856) , gi|2996219|gb|AAC62543.1| (AF053945) , and gi|5763814|emb|CAB531 67.1| (AL109969)']\n",
            "    Key: product, Value: ['pesticin immunity protein']\n",
            "    Key: protein_id, Value: ['NP_995571.1']\n",
            "    Key: transl_table, Value: ['11']\n",
            "    Key: translation, Value: ['MGGGMISKLFCLALIFLSSSGLAEKNTYTAKDILQNLELNTFGNSLSHGIYGKQTTFKQTEFTNIKSNTKKHIALINKDNSWMISLKILGIKRDEYTVCFEDFSLIRPPTYVAIHPLLIKKVKSGNFIVVKEIKKSIPGCTVYYH']\n",
            "\n"
          ]
        }
      ]
    },
    {
      "cell_type": "markdown",
      "source": [
        "Обратите внимание, что их расположение было скорректировано, чтобы отразить новую родительскую последовательность!\n",
        "\n",
        "В то время как Biopython сделал что-то разумное и, надеюсь, интуитивно понятное с функциями (и любой побуквенной аннотацией), для другой аннотации невозможно узнать, применимо ли это все еще к подпоследовательности или нет. Во избежание предположений, за исключением типа молекулы, .annotations и .dbxrefs опущены из подзаписи, и вы должны передать любую соответствующую информацию по мере необходимости."
      ],
      "metadata": {
        "id": "3liFFhLNaCPF"
      }
    },
    {
      "cell_type": "code",
      "source": [
        "sub_record.annotations"
      ],
      "metadata": {
        "colab": {
          "base_uri": "https://localhost:8080/"
        },
        "id": "Q_PnORU0aEVt",
        "outputId": "28b39252-faf0-4e25-f2d8-b3f51b9a6134"
      },
      "execution_count": 145,
      "outputs": [
        {
          "output_type": "execute_result",
          "data": {
            "text/plain": [
              "{'molecule_type': 'DNA'}"
            ]
          },
          "metadata": {},
          "execution_count": 145
        }
      ]
    },
    {
      "cell_type": "code",
      "source": [
        "sub_record.dbxrefs"
      ],
      "metadata": {
        "id": "84_-6uD_aIiU"
      },
      "execution_count": null,
      "outputs": []
    },
    {
      "cell_type": "markdown",
      "source": [
        "Возможно, вы захотите сохранить другие записи, такие как организм? Остерегайтесь копировать весь словарь аннотаций, так как в этом случае ваша частичная последовательность больше не является кольцевой ДНК — теперь она линейна:"
      ],
      "metadata": {
        "id": "RCTqcfyIaOt1"
      }
    },
    {
      "cell_type": "code",
      "source": [
        "sub_record.annotations[\"topology\"] = \"linear\""
      ],
      "metadata": {
        "id": "LOVPPBpraU48"
      },
      "execution_count": 146,
      "outputs": []
    },
    {
      "cell_type": "markdown",
      "source": [
        "То же самое можно сказать и об идентификаторе записи, имени и описании, но для удобства они сохранены:"
      ],
      "metadata": {
        "id": "hzGODWXAabi8"
      }
    },
    {
      "cell_type": "code",
      "source": [
        "sub_record.id"
      ],
      "metadata": {
        "colab": {
          "base_uri": "https://localhost:8080/",
          "height": 36
        },
        "id": "LU33tp2VabCs",
        "outputId": "63b84673-a0f9-40c4-cd11-8f928be89ecb"
      },
      "execution_count": 147,
      "outputs": [
        {
          "output_type": "execute_result",
          "data": {
            "text/plain": [
              "'NC_005816.1'"
            ],
            "application/vnd.google.colaboratory.intrinsic+json": {
              "type": "string"
            }
          },
          "metadata": {},
          "execution_count": 147
        }
      ]
    },
    {
      "cell_type": "code",
      "source": [
        "sub_record.name"
      ],
      "metadata": {
        "colab": {
          "base_uri": "https://localhost:8080/",
          "height": 36
        },
        "id": "C-qkcng5aiE7",
        "outputId": "fd6c303a-fbf0-4ba5-b9ce-4dc02fb7b050"
      },
      "execution_count": 148,
      "outputs": [
        {
          "output_type": "execute_result",
          "data": {
            "text/plain": [
              "'NC_005816'"
            ],
            "application/vnd.google.colaboratory.intrinsic+json": {
              "type": "string"
            }
          },
          "metadata": {},
          "execution_count": 148
        }
      ]
    },
    {
      "cell_type": "code",
      "source": [
        "sub_record.description"
      ],
      "metadata": {
        "colab": {
          "base_uri": "https://localhost:8080/",
          "height": 36
        },
        "id": "2dygl6taald7",
        "outputId": "e33f7b13-40c5-4000-aa2c-7d9ce28c3d45"
      },
      "execution_count": 149,
      "outputs": [
        {
          "output_type": "execute_result",
          "data": {
            "text/plain": [
              "'Yersinia pestis biovar Microtus str. 91001 plasmid pPCP1, complete sequence'"
            ],
            "application/vnd.google.colaboratory.intrinsic+json": {
              "type": "string"
            }
          },
          "metadata": {},
          "execution_count": 149
        }
      ]
    },
    {
      "cell_type": "markdown",
      "source": [
        "Это хорошо иллюстрирует проблему, наша новая подзапись не является полной последовательностью плазмиды, поэтому описание неверно! Давайте исправим это, а затем просмотрим подзапись как уменьшенный файл GenBank, используя метод форматирования , описанный выше в Разделе ‍ 4.6:"
      ],
      "metadata": {
        "id": "Ea7zpKCFauRV"
      }
    },
    {
      "cell_type": "code",
      "source": [
        "sub_record.description = \"Yersinia pestis biovar Microtus str. 91001 plasmid pPCP1, partial\"\n",
        "print(sub_record.format(\"genbank\")[:200] + \"...\")"
      ],
      "metadata": {
        "colab": {
          "base_uri": "https://localhost:8080/"
        },
        "id": "lsoqGNhaaz59",
        "outputId": "ae84a9a7-93db-4a36-beeb-e6e50e505e02"
      },
      "execution_count": 150,
      "outputs": [
        {
          "output_type": "stream",
          "name": "stdout",
          "text": [
            "LOCUS       NC_005816                500 bp    DNA     linear   UNK 01-JAN-1980\n",
            "DEFINITION  Yersinia pestis biovar Microtus str. 91001 plasmid pPCP1, partial.\n",
            "ACCESSION   NC_005816\n",
            "VERSION     NC_0058...\n"
          ]
        }
      ]
    },
    {
      "cell_type": "markdown",
      "source": [
        "См. Разделы ‍ 20.1.7 и ‍ 20.1.8 для некоторых примеров FASTQ, в которых также нарезаются побуквенные аннотации (показатели качества чтения)."
      ],
      "metadata": {
        "id": "9MA1g-6oa_6U"
      }
    },
    {
      "cell_type": "markdown",
      "source": [
        "##4.8 Добавление объектов SeqRecord\n",
        "Вы можете добавлять SeqRecord объекты вместе, давая новый SeqRecord. Здесь важно то, что любые общие аннотации для каждой буквы также добавляются, все функции сохраняются (с корректировкой их местоположения), а также сохраняются любые другие общие аннотации (например, идентификатор, имя и описание).\n",
        "\n",
        "Для примера с побуквенной аннотацией мы будем использовать первую запись в файле FASTQ. В главе ‍ 5 объясняются SeqIOфункции:\n"
      ],
      "metadata": {
        "id": "sW7yvJ5ObMHN"
      }
    },
    {
      "cell_type": "code",
      "source": [
        "# >>> from Bio import SeqIO\n",
        "# >>> record = next(SeqIO.parse(\"example.fastq\", \"fastq\"))\n",
        "# >>> len(record)\n",
        "# 25\n",
        "# >>> print(record.seq)\n",
        "# CCCTTCTTGTCTTCAGCGTTTCTCC\n",
        "# >>> print(record.letter_annotations[\"phred_quality\"])\n",
        "# [26, 26, 18, 26, 26, 26, 26, 26, 26, 26, 26, 26, 26, 26, 26, 22, 26, 26, 26, 26, 26, 26, 26, 23, 23]"
      ],
      "metadata": {
        "id": "PzoYOVMVli2J"
      },
      "execution_count": 152,
      "outputs": []
    },
    {
      "cell_type": "markdown",
      "source": [
        "Давайте предположим, что это были данные Roche 454, и, исходя из другой информации, вы думаете, что TTT должен быть только TT . Мы можем создать новую отредактированную запись, сначала разрезав SeqRecordдо и после «лишнего» третьего T :"
      ],
      "metadata": {
        "id": "DtBLK_d-pcWw"
      }
    },
    {
      "cell_type": "code",
      "source": [
        "# >>> left = record[:20]\n",
        "# >>> print(left.seq)\n",
        "# CCCTTCTTGTCTTCAGCGTT\n",
        "# >>> print(left.letter_annotations[\"phred_quality\"])\n",
        "# [26, 26, 18, 26, 26, 26, 26, 26, 26, 26, 26, 26, 26, 26, 26, 22, 26, 26, 26, 26]\n",
        "# >>> right = record[21:]\n",
        "# >>> print(right.seq)\n",
        "# CTCC\n",
        "# >>> print(right.letter_annotations[\"phred_quality\"])\n",
        "# [26, 26, 23, 23]"
      ],
      "metadata": {
        "id": "GLApM9nbpfDp"
      },
      "execution_count": null,
      "outputs": []
    },
    {
      "cell_type": "markdown",
      "source": [
        "Теперь сложите две части вместе:"
      ],
      "metadata": {
        "id": "jgPEeNgWpn-Y"
      }
    },
    {
      "cell_type": "code",
      "source": [
        "# >>> edited = left + right\n",
        "# >>> len(edited)\n",
        "# 24\n",
        "# >>> print(edited.seq)\n",
        "# CCCTTCTTGTCTTCAGCGTTCTCC\n",
        "# >>> print(edited.letter_annotations[\"phred_quality\"])\n",
        "# [26, 26, 18, 26, 26, 26, 26, 26, 26, 26, 26, 26, 26, 26, 26, 22, 26, 26, 26, 26, 26, 26, 23, 23]"
      ],
      "metadata": {
        "id": "7HIpcpX_pspP"
      },
      "execution_count": null,
      "outputs": []
    },
    {
      "cell_type": "markdown",
      "source": [
        "Легко и интуитивно понятно? Мы надеемся на это! Вы можете сделать это короче, просто:"
      ],
      "metadata": {
        "id": "lx2JYcNppvJI"
      }
    },
    {
      "cell_type": "code",
      "source": [
        "edited = record[:20] + record[21:]"
      ],
      "metadata": {
        "id": "lLZpxlaQpzA4"
      },
      "execution_count": null,
      "outputs": []
    },
    {
      "cell_type": "markdown",
      "source": [
        "Теперь для примера с функциями мы будем использовать файл GenBank. Предположим, у вас кольцевой геном:"
      ],
      "metadata": {
        "id": "DcXsQPEGp_iH"
      }
    },
    {
      "cell_type": "code",
      "source": [
        "from Bio import SeqIO\n",
        "record = SeqIO.read(\"/content/NC_005816.gb\", \"genbank\")\n",
        "record"
      ],
      "metadata": {
        "colab": {
          "base_uri": "https://localhost:8080/"
        },
        "id": "usNv1bBNqAnI",
        "outputId": "d544facd-69f2-4210-a32f-169801b5ea02"
      },
      "execution_count": 154,
      "outputs": [
        {
          "output_type": "execute_result",
          "data": {
            "text/plain": [
              "SeqRecord(seq=Seq('TGTAACGAACGGTGCAATAGTGATCCACACCCAACGCCTGAAATCAGATCCAGG...CTG'), id='NC_005816.1', name='NC_005816', description='Yersinia pestis biovar Microtus str. 91001 plasmid pPCP1, complete sequence', dbxrefs=['Project:58037'])"
            ]
          },
          "metadata": {},
          "execution_count": 154
        }
      ]
    },
    {
      "cell_type": "code",
      "source": [
        "len(record)"
      ],
      "metadata": {
        "colab": {
          "base_uri": "https://localhost:8080/"
        },
        "id": "-kvt2_oZqSU_",
        "outputId": "c1ca7625-f90c-42fa-c62d-62234f932f76"
      },
      "execution_count": 155,
      "outputs": [
        {
          "output_type": "execute_result",
          "data": {
            "text/plain": [
              "9609"
            ]
          },
          "metadata": {},
          "execution_count": 155
        }
      ]
    },
    {
      "cell_type": "code",
      "source": [
        "len(record.features)"
      ],
      "metadata": {
        "colab": {
          "base_uri": "https://localhost:8080/"
        },
        "id": "qgfAbafEqVU2",
        "outputId": "cb65a495-bd2e-429b-c12f-c46085e323a7"
      },
      "execution_count": 156,
      "outputs": [
        {
          "output_type": "execute_result",
          "data": {
            "text/plain": [
              "41"
            ]
          },
          "metadata": {},
          "execution_count": 156
        }
      ]
    },
    {
      "cell_type": "code",
      "source": [
        "record.dbxrefs"
      ],
      "metadata": {
        "colab": {
          "base_uri": "https://localhost:8080/"
        },
        "id": "54uELWChqYmn",
        "outputId": "51f6f358-59f9-4ddc-ddc8-4620b09e22e7"
      },
      "execution_count": 157,
      "outputs": [
        {
          "output_type": "execute_result",
          "data": {
            "text/plain": [
              "['Project:58037']"
            ]
          },
          "metadata": {},
          "execution_count": 157
        }
      ]
    },
    {
      "cell_type": "code",
      "source": [
        "record.annotations.keys()"
      ],
      "metadata": {
        "colab": {
          "base_uri": "https://localhost:8080/"
        },
        "id": "o7JKxTlJqbSZ",
        "outputId": "6d570ce9-87ca-4654-ff45-30c3c8b7f044"
      },
      "execution_count": 158,
      "outputs": [
        {
          "output_type": "execute_result",
          "data": {
            "text/plain": [
              "dict_keys(['molecule_type', 'topology', 'data_file_division', 'date', 'accessions', 'sequence_version', 'gi', 'keywords', 'source', 'organism', 'taxonomy', 'references', 'comment'])"
            ]
          },
          "metadata": {},
          "execution_count": 158
        }
      ]
    },
    {
      "cell_type": "markdown",
      "source": [
        "Вы можете изменить происхождение следующим образом:"
      ],
      "metadata": {
        "id": "J1mnRow-qvYL"
      }
    },
    {
      "cell_type": "code",
      "source": [
        "shifted = record[2000:] + record[:2000]\n",
        "shifted"
      ],
      "metadata": {
        "colab": {
          "base_uri": "https://localhost:8080/"
        },
        "id": "hnhM7BqbqwWA",
        "outputId": "e46f8304-2324-4cad-c999-f174a64e5436"
      },
      "execution_count": 159,
      "outputs": [
        {
          "output_type": "execute_result",
          "data": {
            "text/plain": [
              "SeqRecord(seq=Seq('GATACGCAGTCATATTTTTTACACAATTCTCTAATCCCGACAAGGTCGTAGGTC...GGA'), id='NC_005816.1', name='NC_005816', description='Yersinia pestis biovar Microtus str. 91001 plasmid pPCP1, complete sequence', dbxrefs=[])"
            ]
          },
          "metadata": {},
          "execution_count": 159
        }
      ]
    },
    {
      "cell_type": "code",
      "source": [
        "len(shifted)"
      ],
      "metadata": {
        "colab": {
          "base_uri": "https://localhost:8080/"
        },
        "id": "3aTk-Vdpq2J4",
        "outputId": "fd15718f-b9c3-4b7f-f626-8acea2a846d2"
      },
      "execution_count": 160,
      "outputs": [
        {
          "output_type": "execute_result",
          "data": {
            "text/plain": [
              "9609"
            ]
          },
          "metadata": {},
          "execution_count": 160
        }
      ]
    },
    {
      "cell_type": "markdown",
      "source": [
        "Обратите внимание, что это не идеально, поскольку некоторые аннотации, такие как перекрестные ссылки базы данных, все аннотации, кроме типа молекулы, и одна из функций (исходная функция) были потеряны:"
      ],
      "metadata": {
        "id": "KWePRWgOq_rX"
      }
    },
    {
      "cell_type": "code",
      "source": [
        "len(shifted.features)"
      ],
      "metadata": {
        "colab": {
          "base_uri": "https://localhost:8080/"
        },
        "id": "DVr4yrXxrB9Q",
        "outputId": "16182761-cded-4be4-bf0b-9b9378556a2f"
      },
      "execution_count": 161,
      "outputs": [
        {
          "output_type": "execute_result",
          "data": {
            "text/plain": [
              "40"
            ]
          },
          "metadata": {},
          "execution_count": 161
        }
      ]
    },
    {
      "cell_type": "code",
      "source": [
        "shifted.dbxrefs"
      ],
      "metadata": {
        "colab": {
          "base_uri": "https://localhost:8080/"
        },
        "id": "9GTmRKEjrHt4",
        "outputId": "0c5b2e78-15b4-474a-b410-c443b2b2c6b9"
      },
      "execution_count": 162,
      "outputs": [
        {
          "output_type": "execute_result",
          "data": {
            "text/plain": [
              "[]"
            ]
          },
          "metadata": {},
          "execution_count": 162
        }
      ]
    },
    {
      "cell_type": "code",
      "source": [
        "shifted.annotations.keys()"
      ],
      "metadata": {
        "colab": {
          "base_uri": "https://localhost:8080/"
        },
        "id": "KOGTJlJrrKev",
        "outputId": "becf2f01-24f2-40fd-d4e6-7f75bafebc05"
      },
      "execution_count": 163,
      "outputs": [
        {
          "output_type": "execute_result",
          "data": {
            "text/plain": [
              "dict_keys(['molecule_type'])"
            ]
          },
          "metadata": {},
          "execution_count": 163
        }
      ]
    },
    {
      "cell_type": "markdown",
      "source": [
        "Это связано с тем, что на SeqRecord этапе нарезки следует соблюдать осторожность при сохранении аннотации (ошибочное распространение аннотации может вызвать серьезные проблемы). Если вы хотите сохранить перекрестные ссылки базы данных или словарь аннотаций, это необходимо сделать явно:"
      ],
      "metadata": {
        "id": "Va-zce1UrRwH"
      }
    },
    {
      "cell_type": "code",
      "source": [
        "shifted.dbxrefs = record.dbxrefs[:]\n",
        "shifted.annotations = record.annotations.copy()\n",
        "shifted.dbxrefs"
      ],
      "metadata": {
        "colab": {
          "base_uri": "https://localhost:8080/"
        },
        "id": "vsNbef3NrRPX",
        "outputId": "4a48cfe6-f27a-4683-c10e-85e93f75f300"
      },
      "execution_count": 164,
      "outputs": [
        {
          "output_type": "execute_result",
          "data": {
            "text/plain": [
              "['Project:58037']"
            ]
          },
          "metadata": {},
          "execution_count": 164
        }
      ]
    },
    {
      "cell_type": "code",
      "source": [
        "shifted.annotations.keys()"
      ],
      "metadata": {
        "colab": {
          "base_uri": "https://localhost:8080/"
        },
        "id": "OXBtxPnbrfH4",
        "outputId": "78a81238-faa0-45d5-f7d7-8c990deb2c14"
      },
      "execution_count": 165,
      "outputs": [
        {
          "output_type": "execute_result",
          "data": {
            "text/plain": [
              "dict_keys(['molecule_type', 'topology', 'data_file_division', 'date', 'accessions', 'sequence_version', 'gi', 'keywords', 'source', 'organism', 'taxonomy', 'references', 'comment'])"
            ]
          },
          "metadata": {},
          "execution_count": 165
        }
      ]
    },
    {
      "cell_type": "markdown",
      "source": [
        "Также обратите внимание, что в подобном примере вам, вероятно, следует изменить идентификаторы записей, поскольку ссылки NCBI относятся к исходной неизмененной последовательности."
      ],
      "metadata": {
        "id": "I235STQ4rqaf"
      }
    },
    {
      "cell_type": "markdown",
      "source": [
        "##4.9 Объекты SeqRecord с обратным дополнением\n",
        "Одной из новых функций в Biopython 1.57 стал метод SeqRecord объекта reverse_complement. Это попытка сбалансировать простоту использования с заботой о том, что делать с аннотацией в записи с обратным дополнением.\n",
        "\n",
        "Для последовательности используется метод обратного дополнения объекта Seq. Любые функции переносятся с пересчетом местоположения и пряди. Точно так же любая побуквенная аннотация также копируется, но переворачивается (что имеет смысл для типичных примеров, таких как показатели качества). Однако перенос большинства аннотаций проблематичен.\n",
        "\n",
        "Например, если идентификатор записи был присоединением, то это присоединение не должно действительно применяться к последовательности с обратным дополнением, а передача идентификатора по умолчанию может легко вызвать незначительное повреждение данных при последующем анализе. Поэтому по умолчанию SeqRecordидентификатор, имя, описание, аннотации и перекрестные ссылки базы данных не передаются по умолчанию.\n",
        "\n",
        "Метод SeqRecordобъекта reverse_complement принимает ряд необязательных аргументов, соответствующих свойствам записи. Установка этих аргументов в True означает копирование старых значений, а False означает удаление старых значений и использование значения по умолчанию. Вместо этого вы можете указать новое желаемое значение.\n",
        "\n",
        "Рассмотрим этот пример записи:"
      ],
      "metadata": {
        "id": "IJmCEzQ6rr9X"
      }
    },
    {
      "cell_type": "code",
      "source": [
        "from Bio import SeqIO\n",
        "record = SeqIO.read(\"/content/NC_005816.gb\", \"genbank\")\n",
        "print(\"%s %i %i %i %i\" % (record.id, len(record), len(record.features), len(record.dbxrefs), len(record.annotations)))"
      ],
      "metadata": {
        "colab": {
          "base_uri": "https://localhost:8080/"
        },
        "id": "a-tqpiEerpuo",
        "outputId": "94edb8f3-99ed-4e5f-9553-965b9bda13fb"
      },
      "execution_count": 166,
      "outputs": [
        {
          "output_type": "stream",
          "name": "stdout",
          "text": [
            "NC_005816.1 9609 41 1 13\n"
          ]
        }
      ]
    },
    {
      "cell_type": "markdown",
      "source": [
        "Здесь мы берем обратное дополнение и указываем новый идентификатор, но обратите внимание, что большая часть аннотации отброшена (но не функции):"
      ],
      "metadata": {
        "id": "WW-aBx7dsSDu"
      }
    },
    {
      "cell_type": "code",
      "source": [
        "rc = record.reverse_complement(id=\"TESTING\")\n",
        "print(\"%s %i %i %i %i\" % (rc.id, len(rc), len(rc.features), len(rc.dbxrefs), len(rc.annotations)))"
      ],
      "metadata": {
        "colab": {
          "base_uri": "https://localhost:8080/"
        },
        "id": "9inLRcwKsRnf",
        "outputId": "fbbe7dee-e11e-427c-d896-9b5cf0902229"
      },
      "execution_count": 167,
      "outputs": [
        {
          "output_type": "stream",
          "name": "stdout",
          "text": [
            "TESTING 9609 41 0 0\n"
          ]
        }
      ]
    }
  ]
}